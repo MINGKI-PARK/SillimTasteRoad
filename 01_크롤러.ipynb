{
 "cells": [
  {
   "cell_type": "markdown",
   "id": "ee15e148",
   "metadata": {},
   "source": [
    "# 신림역 음식점 크롤링"
   ]
  },
  {
   "cell_type": "markdown",
   "id": "ad7ff4f6",
   "metadata": {
    "toc": true
   },
   "source": [
    "<h1>Table of Contents<span class=\"tocSkip\"></span></h1>\n",
    "<div class=\"toc\"><ul class=\"toc-item\"></ul></div>"
   ]
  },
  {
   "cell_type": "code",
   "execution_count": 1,
   "id": "f5fe4e7d",
   "metadata": {
    "ExecuteTime": {
     "end_time": "2021-09-06T19:53:54.338669Z",
     "start_time": "2021-09-06T19:53:51.194127Z"
    }
   },
   "outputs": [],
   "source": [
    "import pandas as pd\n",
    "import missingno as msno\n",
    "from selenium import webdriver\n",
    "import warnings\n",
    "warnings.filterwarnings('ignore')\n",
    "import time\n",
    "from bs4 import BeautifulSoup"
   ]
  },
  {
   "cell_type": "code",
   "execution_count": 2,
   "id": "ec17e7e1",
   "metadata": {
    "ExecuteTime": {
     "end_time": "2021-09-06T19:53:56.758790Z",
     "start_time": "2021-09-06T19:53:55.084529Z"
    }
   },
   "outputs": [],
   "source": [
    "driver = webdriver.Chrome('chromedriver/chromedriver.exe')"
   ]
  },
  {
   "cell_type": "code",
   "execution_count": 3,
   "id": "5f7f476b",
   "metadata": {
    "ExecuteTime": {
     "end_time": "2021-09-06T19:54:02.085913Z",
     "start_time": "2021-09-06T19:54:00.036451Z"
    }
   },
   "outputs": [],
   "source": [
    "driver.get('https://map.kakao.com/')"
   ]
  },
  {
   "cell_type": "code",
   "execution_count": 4,
   "id": "31a37b0f",
   "metadata": {
    "ExecuteTime": {
     "end_time": "2021-09-06T19:54:02.645954Z",
     "start_time": "2021-09-06T19:54:02.452362Z"
    }
   },
   "outputs": [],
   "source": [
    "driver.close()"
   ]
  },
  {
   "cell_type": "code",
   "execution_count": 5,
   "id": "d120e6ca",
   "metadata": {
    "ExecuteTime": {
     "end_time": "2021-09-06T19:54:04.432142Z",
     "start_time": "2021-09-06T19:54:04.413385Z"
    }
   },
   "outputs": [],
   "source": [
    "def time_for_web():\n",
    "    driver.implicitly_wait(10)\n",
    "    time.sleep(3)"
   ]
  },
  {
   "cell_type": "code",
   "execution_count": 8,
   "id": "27e34605",
   "metadata": {
    "ExecuteTime": {
     "end_time": "2021-09-06T19:54:44.039695Z",
     "start_time": "2021-09-06T19:54:42.516399Z"
    }
   },
   "outputs": [],
   "source": [
    "driver = webdriver.Chrome('chromedriver/chromedriver.exe')\n",
    "driver.implicitly_wait(3)"
   ]
  },
  {
   "cell_type": "code",
   "execution_count": 10,
   "id": "0b2ab2f4",
   "metadata": {
    "ExecuteTime": {
     "end_time": "2021-09-06T19:56:33.267308Z",
     "start_time": "2021-09-06T19:56:28.774480Z"
    }
   },
   "outputs": [],
   "source": [
    "# 카카오 지도로 이동\n",
    "driver.get('https://map.kakao.com/')\n",
    "time_for_web()\n",
    "\n",
    "# '음식점' 검색어 입력\n",
    "driver.find_element_by_id('search.keyword.query').send_keys('음식점')\n",
    "driver.implicitly_wait(3)\n",
    "\n",
    "# 검색 클릭\n",
    "try:\n",
    "    driver.find_element_by_id('search.keyword.submit').click()\n",
    "except:\n",
    "    print('확인 필요')\n",
    "\n",
    "# 더보기 클릭\n",
    "driver.find_element_by_css_selector('#info\\.search\\.place\\.more').click()"
   ]
  },
  {
   "cell_type": "code",
   "execution_count": 18,
   "id": "853232fe",
   "metadata": {
    "ExecuteTime": {
     "end_time": "2021-09-06T19:29:08.367757Z",
     "start_time": "2021-09-06T19:29:07.887581Z"
    }
   },
   "outputs": [],
   "source": [
    "driver.close()"
   ]
  },
  {
   "cell_type": "code",
   "execution_count": 11,
   "id": "cf53cf02",
   "metadata": {
    "ExecuteTime": {
     "end_time": "2021-09-06T19:56:49.456906Z",
     "start_time": "2021-09-06T19:56:49.413580Z"
    }
   },
   "outputs": [],
   "source": [
    "from tqdm import tqdm\n",
    "\n",
    "restaurant = {\n",
    "    'name': [], \n",
    "    'category': [], \n",
    "    'address': [],\n",
    "    'score': [], \n",
    "    'eval_cnt': [], \n",
    "    'review_cnt': []\n",
    "}"
   ]
  },
  {
   "cell_type": "code",
   "execution_count": 12,
   "id": "01dfa817",
   "metadata": {
    "ExecuteTime": {
     "end_time": "2021-09-06T19:57:59.666517Z",
     "start_time": "2021-09-06T19:57:00.004388Z"
    }
   },
   "outputs": [
    {
     "name": "stderr",
     "output_type": "stream",
     "text": [
      " 97%|███████████████████████████████████████████████████████████████████████████████▌  | 33/34 [00:59<00:01,  1.81s/it]"
     ]
    },
    {
     "name": "stdout",
     "output_type": "stream",
     "text": [
      "페이지 초과 or 끝\n"
     ]
    },
    {
     "name": "stderr",
     "output_type": "stream",
     "text": [
      "\n"
     ]
    }
   ],
   "source": [
    "for pagenum in tqdm(range(1, 35)):\n",
    "    try: \n",
    "        # 현재 페이지의 음식점 정보 크롤링\n",
    "        page = pagenum % 5\n",
    "        soup = driver.page_source\n",
    "        b = BeautifulSoup(soup, 'lxml')\n",
    "        for num in range(0, 15):\n",
    "            restaurant['name'].append(b.find_all('a','link_name')[num].text)\n",
    "            restaurant['category'].append(b.find_all('span', 'subcategory')[num].text)\n",
    "            restaurant['address'].append(b.find_all('p', 'lot_number')[num].text)\n",
    "            restaurant['score'].append(b.find_all('em', 'num')[num].text)\n",
    "            restaurant['eval_cnt'].append(b.find_all('a', 'numberofscore')[num].text)\n",
    "            restaurant['review_cnt'].append(b.find_all('a', 'review', 'em')[num].text)\n",
    "        time_for_web\n",
    "        # 다음 페이지 or 다음 버튼\n",
    "        if page:\n",
    "            driver.find_element_by_id('info.search.page.no{}'.format(page+1)).click()\n",
    "        else:\n",
    "            driver.find_element_by_id('info.search.page.next').click()\n",
    "    except:\n",
    "        print('페이지 초과 or 끝')\n",
    "        break"
   ]
  },
  {
   "cell_type": "code",
   "execution_count": 15,
   "id": "81db6b83",
   "metadata": {
    "ExecuteTime": {
     "end_time": "2021-09-06T19:58:35.974232Z",
     "start_time": "2021-09-06T19:58:35.957251Z"
    }
   },
   "outputs": [
    {
     "data": {
      "text/plain": [
       "dict_keys(['name', 'category', 'address', 'score', 'eval_cnt', 'review_cnt'])"
      ]
     },
     "execution_count": 15,
     "metadata": {},
     "output_type": "execute_result"
    }
   ],
   "source": [
    "restaurant.keys()"
   ]
  },
  {
   "cell_type": "code",
   "execution_count": 17,
   "id": "dbcfd498",
   "metadata": {
    "ExecuteTime": {
     "end_time": "2021-09-06T19:59:54.050055Z",
     "start_time": "2021-09-06T19:59:54.012843Z"
    }
   },
   "outputs": [
    {
     "data": {
      "text/html": [
       "<div>\n",
       "<style scoped>\n",
       "    .dataframe tbody tr th:only-of-type {\n",
       "        vertical-align: middle;\n",
       "    }\n",
       "\n",
       "    .dataframe tbody tr th {\n",
       "        vertical-align: top;\n",
       "    }\n",
       "\n",
       "    .dataframe thead th {\n",
       "        text-align: right;\n",
       "    }\n",
       "</style>\n",
       "<table border=\"1\" class=\"dataframe\">\n",
       "  <thead>\n",
       "    <tr style=\"text-align: right;\">\n",
       "      <th></th>\n",
       "      <th>name</th>\n",
       "      <th>category</th>\n",
       "      <th>address</th>\n",
       "      <th>score</th>\n",
       "      <th>eval_cnt</th>\n",
       "      <th>review_cnt</th>\n",
       "    </tr>\n",
       "  </thead>\n",
       "  <tbody>\n",
       "    <tr>\n",
       "      <th>0</th>\n",
       "      <td>아리차이 신림점</td>\n",
       "      <td>중화요리</td>\n",
       "      <td>(지번) 신림동 1430-11</td>\n",
       "      <td>3.8</td>\n",
       "      <td>64건</td>\n",
       "      <td>리뷰 45</td>\n",
       "    </tr>\n",
       "    <tr>\n",
       "      <th>1</th>\n",
       "      <td>디자이너리카페</td>\n",
       "      <td>카페</td>\n",
       "      <td>(지번) 신림동 1465-12</td>\n",
       "      <td>3.6</td>\n",
       "      <td>33건</td>\n",
       "      <td>리뷰 184</td>\n",
       "    </tr>\n",
       "    <tr>\n",
       "      <th>2</th>\n",
       "      <td>원조민속순대타운</td>\n",
       "      <td>순대</td>\n",
       "      <td>(지번) 신림동 1640-31</td>\n",
       "      <td>3.3</td>\n",
       "      <td>30건</td>\n",
       "      <td>리뷰 175</td>\n",
       "    </tr>\n",
       "    <tr>\n",
       "      <th>3</th>\n",
       "      <td>월화고기 보라매직영점</td>\n",
       "      <td>육류,고기</td>\n",
       "      <td>(지번) 봉천동 732-3</td>\n",
       "      <td>4.2</td>\n",
       "      <td>103건</td>\n",
       "      <td>리뷰 215</td>\n",
       "    </tr>\n",
       "    <tr>\n",
       "      <th>4</th>\n",
       "      <td>막불감동 신림본점</td>\n",
       "      <td>냉면</td>\n",
       "      <td>(지번) 신림동 1433-60</td>\n",
       "      <td>3.7</td>\n",
       "      <td>41건</td>\n",
       "      <td>리뷰 97</td>\n",
       "    </tr>\n",
       "    <tr>\n",
       "      <th>...</th>\n",
       "      <td>...</td>\n",
       "      <td>...</td>\n",
       "      <td>...</td>\n",
       "      <td>...</td>\n",
       "      <td>...</td>\n",
       "      <td>...</td>\n",
       "    </tr>\n",
       "    <tr>\n",
       "      <th>505</th>\n",
       "      <td>빽다방 신림역2호점</td>\n",
       "      <td>커피전문점</td>\n",
       "      <td>(지번) 신림동 1641-12</td>\n",
       "      <td>3.8</td>\n",
       "      <td>5건</td>\n",
       "      <td>리뷰 3</td>\n",
       "    </tr>\n",
       "    <tr>\n",
       "      <th>506</th>\n",
       "      <td>궁중 삼계탕</td>\n",
       "      <td>삼계탕</td>\n",
       "      <td>(지번) 신대방동 395-66</td>\n",
       "      <td>3.2</td>\n",
       "      <td>6건</td>\n",
       "      <td>리뷰 5</td>\n",
       "    </tr>\n",
       "    <tr>\n",
       "      <th>507</th>\n",
       "      <td>본죽 신림역점</td>\n",
       "      <td>죽</td>\n",
       "      <td>(지번) 신림동 1637-3</td>\n",
       "      <td>2.6</td>\n",
       "      <td>9건</td>\n",
       "      <td>리뷰 3</td>\n",
       "    </tr>\n",
       "    <tr>\n",
       "      <th>508</th>\n",
       "      <td>고고즉석떡볶이 신림역점</td>\n",
       "      <td>분식</td>\n",
       "      <td>(지번) 신림동 1424-9</td>\n",
       "      <td>4.5</td>\n",
       "      <td>4건</td>\n",
       "      <td>리뷰 13</td>\n",
       "    </tr>\n",
       "    <tr>\n",
       "      <th>509</th>\n",
       "      <td>장충영양족발</td>\n",
       "      <td>족발,보쌈</td>\n",
       "      <td>(지번) 신림동 10-627</td>\n",
       "      <td>5.0</td>\n",
       "      <td>7건</td>\n",
       "      <td>리뷰 11</td>\n",
       "    </tr>\n",
       "  </tbody>\n",
       "</table>\n",
       "<p>510 rows × 6 columns</p>\n",
       "</div>"
      ],
      "text/plain": [
       "             name category           address score eval_cnt review_cnt\n",
       "0        아리차이 신림점     중화요리  (지번) 신림동 1430-11   3.8      64건      리뷰 45\n",
       "1         디자이너리카페       카페  (지번) 신림동 1465-12   3.6      33건     리뷰 184\n",
       "2        원조민속순대타운       순대  (지번) 신림동 1640-31   3.3      30건     리뷰 175\n",
       "3     월화고기 보라매직영점    육류,고기    (지번) 봉천동 732-3   4.2     103건     리뷰 215\n",
       "4       막불감동 신림본점       냉면  (지번) 신림동 1433-60   3.7      41건      리뷰 97\n",
       "..            ...      ...               ...   ...      ...        ...\n",
       "505    빽다방 신림역2호점    커피전문점  (지번) 신림동 1641-12   3.8       5건       리뷰 3\n",
       "506        궁중 삼계탕      삼계탕  (지번) 신대방동 395-66   3.2       6건       리뷰 5\n",
       "507       본죽 신림역점        죽   (지번) 신림동 1637-3   2.6       9건       리뷰 3\n",
       "508  고고즉석떡볶이 신림역점       분식   (지번) 신림동 1424-9   4.5       4건      리뷰 13\n",
       "509        장충영양족발    족발,보쌈   (지번) 신림동 10-627   5.0       7건      리뷰 11\n",
       "\n",
       "[510 rows x 6 columns]"
      ]
     },
     "execution_count": 17,
     "metadata": {},
     "output_type": "execute_result"
    }
   ],
   "source": [
    "df = pd.DataFrame(restaurant)\n",
    "df"
   ]
  },
  {
   "cell_type": "code",
   "execution_count": 18,
   "id": "d43d01f1",
   "metadata": {
    "ExecuteTime": {
     "end_time": "2021-09-06T20:12:50.956182Z",
     "start_time": "2021-09-06T20:12:50.948144Z"
    }
   },
   "outputs": [
    {
     "data": {
      "text/plain": [
       "(510, 6)"
      ]
     },
     "execution_count": 18,
     "metadata": {},
     "output_type": "execute_result"
    }
   ],
   "source": [
    "df.shape"
   ]
  },
  {
   "cell_type": "code",
   "execution_count": 22,
   "id": "d7bd185f",
   "metadata": {
    "ExecuteTime": {
     "end_time": "2021-09-06T20:15:51.583353Z",
     "start_time": "2021-09-06T20:15:51.564134Z"
    }
   },
   "outputs": [],
   "source": [
    "df.to_csv('./source/restaurant_raw(mk).csv', index=False)"
   ]
  },
  {
   "cell_type": "code",
   "execution_count": 24,
   "id": "d9359e7d",
   "metadata": {
    "ExecuteTime": {
     "end_time": "2021-09-06T20:16:00.914136Z",
     "start_time": "2021-09-06T20:16:00.868735Z"
    }
   },
   "outputs": [
    {
     "data": {
      "text/html": [
       "<div>\n",
       "<style scoped>\n",
       "    .dataframe tbody tr th:only-of-type {\n",
       "        vertical-align: middle;\n",
       "    }\n",
       "\n",
       "    .dataframe tbody tr th {\n",
       "        vertical-align: top;\n",
       "    }\n",
       "\n",
       "    .dataframe thead th {\n",
       "        text-align: right;\n",
       "    }\n",
       "</style>\n",
       "<table border=\"1\" class=\"dataframe\">\n",
       "  <thead>\n",
       "    <tr style=\"text-align: right;\">\n",
       "      <th></th>\n",
       "      <th>name</th>\n",
       "      <th>category</th>\n",
       "      <th>address</th>\n",
       "      <th>score</th>\n",
       "      <th>eval_cnt</th>\n",
       "      <th>review_cnt</th>\n",
       "    </tr>\n",
       "  </thead>\n",
       "  <tbody>\n",
       "    <tr>\n",
       "      <th>0</th>\n",
       "      <td>아리차이 신림점</td>\n",
       "      <td>중화요리</td>\n",
       "      <td>(지번) 신림동 1430-11</td>\n",
       "      <td>3.8</td>\n",
       "      <td>64건</td>\n",
       "      <td>리뷰 45</td>\n",
       "    </tr>\n",
       "    <tr>\n",
       "      <th>1</th>\n",
       "      <td>디자이너리카페</td>\n",
       "      <td>카페</td>\n",
       "      <td>(지번) 신림동 1465-12</td>\n",
       "      <td>3.6</td>\n",
       "      <td>33건</td>\n",
       "      <td>리뷰 184</td>\n",
       "    </tr>\n",
       "    <tr>\n",
       "      <th>2</th>\n",
       "      <td>원조민속순대타운</td>\n",
       "      <td>순대</td>\n",
       "      <td>(지번) 신림동 1640-31</td>\n",
       "      <td>3.3</td>\n",
       "      <td>30건</td>\n",
       "      <td>리뷰 175</td>\n",
       "    </tr>\n",
       "    <tr>\n",
       "      <th>3</th>\n",
       "      <td>월화고기 보라매직영점</td>\n",
       "      <td>육류,고기</td>\n",
       "      <td>(지번) 봉천동 732-3</td>\n",
       "      <td>4.2</td>\n",
       "      <td>103건</td>\n",
       "      <td>리뷰 215</td>\n",
       "    </tr>\n",
       "    <tr>\n",
       "      <th>4</th>\n",
       "      <td>막불감동 신림본점</td>\n",
       "      <td>냉면</td>\n",
       "      <td>(지번) 신림동 1433-60</td>\n",
       "      <td>3.7</td>\n",
       "      <td>41건</td>\n",
       "      <td>리뷰 97</td>\n",
       "    </tr>\n",
       "    <tr>\n",
       "      <th>...</th>\n",
       "      <td>...</td>\n",
       "      <td>...</td>\n",
       "      <td>...</td>\n",
       "      <td>...</td>\n",
       "      <td>...</td>\n",
       "      <td>...</td>\n",
       "    </tr>\n",
       "    <tr>\n",
       "      <th>505</th>\n",
       "      <td>빽다방 신림역2호점</td>\n",
       "      <td>커피전문점</td>\n",
       "      <td>(지번) 신림동 1641-12</td>\n",
       "      <td>3.8</td>\n",
       "      <td>5건</td>\n",
       "      <td>리뷰 3</td>\n",
       "    </tr>\n",
       "    <tr>\n",
       "      <th>506</th>\n",
       "      <td>궁중 삼계탕</td>\n",
       "      <td>삼계탕</td>\n",
       "      <td>(지번) 신대방동 395-66</td>\n",
       "      <td>3.2</td>\n",
       "      <td>6건</td>\n",
       "      <td>리뷰 5</td>\n",
       "    </tr>\n",
       "    <tr>\n",
       "      <th>507</th>\n",
       "      <td>본죽 신림역점</td>\n",
       "      <td>죽</td>\n",
       "      <td>(지번) 신림동 1637-3</td>\n",
       "      <td>2.6</td>\n",
       "      <td>9건</td>\n",
       "      <td>리뷰 3</td>\n",
       "    </tr>\n",
       "    <tr>\n",
       "      <th>508</th>\n",
       "      <td>고고즉석떡볶이 신림역점</td>\n",
       "      <td>분식</td>\n",
       "      <td>(지번) 신림동 1424-9</td>\n",
       "      <td>4.5</td>\n",
       "      <td>4건</td>\n",
       "      <td>리뷰 13</td>\n",
       "    </tr>\n",
       "    <tr>\n",
       "      <th>509</th>\n",
       "      <td>장충영양족발</td>\n",
       "      <td>족발,보쌈</td>\n",
       "      <td>(지번) 신림동 10-627</td>\n",
       "      <td>5.0</td>\n",
       "      <td>7건</td>\n",
       "      <td>리뷰 11</td>\n",
       "    </tr>\n",
       "  </tbody>\n",
       "</table>\n",
       "<p>510 rows × 6 columns</p>\n",
       "</div>"
      ],
      "text/plain": [
       "             name category           address  score eval_cnt review_cnt\n",
       "0        아리차이 신림점     중화요리  (지번) 신림동 1430-11    3.8      64건      리뷰 45\n",
       "1         디자이너리카페       카페  (지번) 신림동 1465-12    3.6      33건     리뷰 184\n",
       "2        원조민속순대타운       순대  (지번) 신림동 1640-31    3.3      30건     리뷰 175\n",
       "3     월화고기 보라매직영점    육류,고기    (지번) 봉천동 732-3    4.2     103건     리뷰 215\n",
       "4       막불감동 신림본점       냉면  (지번) 신림동 1433-60    3.7      41건      리뷰 97\n",
       "..            ...      ...               ...    ...      ...        ...\n",
       "505    빽다방 신림역2호점    커피전문점  (지번) 신림동 1641-12    3.8       5건       리뷰 3\n",
       "506        궁중 삼계탕      삼계탕  (지번) 신대방동 395-66    3.2       6건       리뷰 5\n",
       "507       본죽 신림역점        죽   (지번) 신림동 1637-3    2.6       9건       리뷰 3\n",
       "508  고고즉석떡볶이 신림역점       분식   (지번) 신림동 1424-9    4.5       4건      리뷰 13\n",
       "509        장충영양족발    족발,보쌈   (지번) 신림동 10-627    5.0       7건      리뷰 11\n",
       "\n",
       "[510 rows x 6 columns]"
      ]
     },
     "execution_count": 24,
     "metadata": {},
     "output_type": "execute_result"
    }
   ],
   "source": [
    "df = pd.read_csv('./source/restaurant_raw(mk).csv')\n",
    "df"
   ]
  }
 ],
 "metadata": {
  "hide_input": false,
  "kernelspec": {
   "display_name": "Python 3",
   "language": "python",
   "name": "python3"
  },
  "language_info": {
   "codemirror_mode": {
    "name": "ipython",
    "version": 3
   },
   "file_extension": ".py",
   "mimetype": "text/x-python",
   "name": "python",
   "nbconvert_exporter": "python",
   "pygments_lexer": "ipython3",
   "version": "3.7.6"
  },
  "toc": {
   "base_numbering": 1,
   "nav_menu": {},
   "number_sections": true,
   "sideBar": true,
   "skip_h1_title": true,
   "title_cell": "Table of Contents",
   "title_sidebar": "Contents",
   "toc_cell": true,
   "toc_position": {
    "height": "calc(100% - 180px)",
    "left": "10px",
    "top": "150px",
    "width": "165px"
   },
   "toc_section_display": true,
   "toc_window_display": true
  }
 },
 "nbformat": 4,
 "nbformat_minor": 5
}
