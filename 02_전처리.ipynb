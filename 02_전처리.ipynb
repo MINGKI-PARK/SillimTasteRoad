{
 "cells": [
  {
   "cell_type": "markdown",
   "id": "52b888db",
   "metadata": {},
   "source": [
    "# 전처리"
   ]
  },
  {
   "cell_type": "markdown",
   "id": "1bfcd9b6",
   "metadata": {
    "toc": true
   },
   "source": [
    "<h1>Table of Contents<span class=\"tocSkip\"></span></h1>\n",
    "<div class=\"toc\"><ul class=\"toc-item\"><li><span><a href=\"#데이터-불러오기\" data-toc-modified-id=\"데이터-불러오기-1\"><span class=\"toc-item-num\">1&nbsp;&nbsp;</span>데이터 불러오기</a></span></li><li><span><a href=\"#데이터-전처리\" data-toc-modified-id=\"데이터-전처리-2\"><span class=\"toc-item-num\">2&nbsp;&nbsp;</span>데이터 전처리</a></span><ul class=\"toc-item\"><li><span><a href=\"#중복-데이터-확인하기\" data-toc-modified-id=\"중복-데이터-확인하기-2.1\"><span class=\"toc-item-num\">2.1&nbsp;&nbsp;</span>중복 데이터 확인하기</a></span></li><li><span><a href=\"#결측값-처리\" data-toc-modified-id=\"결측값-처리-2.2\"><span class=\"toc-item-num\">2.2&nbsp;&nbsp;</span>결측값 처리</a></span></li><li><span><a href=\"#address-컬럼\" data-toc-modified-id=\"address-컬럼-2.3\"><span class=\"toc-item-num\">2.3&nbsp;&nbsp;</span>address 컬럼</a></span></li><li><span><a href=\"#eval_cnt-컬럼\" data-toc-modified-id=\"eval_cnt-컬럼-2.4\"><span class=\"toc-item-num\">2.4&nbsp;&nbsp;</span>eval_cnt 컬럼</a></span><ul class=\"toc-item\"><li><span><a href=\"#문자-제거\" data-toc-modified-id=\"문자-제거-2.4.1\"><span class=\"toc-item-num\">2.4.1&nbsp;&nbsp;</span>문자 제거</a></span></li><li><span><a href=\"#데이터-형식-변경\" data-toc-modified-id=\"데이터-형식-변경-2.4.2\"><span class=\"toc-item-num\">2.4.2&nbsp;&nbsp;</span>데이터 형식 변경</a></span></li></ul></li><li><span><a href=\"#review_cnt-컬럼\" data-toc-modified-id=\"review_cnt-컬럼-2.5\"><span class=\"toc-item-num\">2.5&nbsp;&nbsp;</span>review_cnt 컬럼</a></span><ul class=\"toc-item\"><li><span><a href=\"#'리뷰'-삭제\" data-toc-modified-id=\"'리뷰'-삭제-2.5.1\"><span class=\"toc-item-num\">2.5.1&nbsp;&nbsp;</span>'리뷰' 삭제</a></span></li><li><span><a href=\"#데이터-타입-int로-바꿔주기\" data-toc-modified-id=\"데이터-타입-int로-바꿔주기-2.5.2\"><span class=\"toc-item-num\">2.5.2&nbsp;&nbsp;</span>데이터 타입 int로 바꿔주기</a></span></li></ul></li><li><span><a href=\"#이상값-처리\" data-toc-modified-id=\"이상값-처리-2.6\"><span class=\"toc-item-num\">2.6&nbsp;&nbsp;</span>이상값 처리</a></span><ul class=\"toc-item\"><li><span><a href=\"#eval_cnt\" data-toc-modified-id=\"eval_cnt-2.6.1\"><span class=\"toc-item-num\">2.6.1&nbsp;&nbsp;</span>eval_cnt</a></span></li><li><span><a href=\"#review_cnt\" data-toc-modified-id=\"review_cnt-2.6.2\"><span class=\"toc-item-num\">2.6.2&nbsp;&nbsp;</span>review_cnt</a></span></li></ul></li><li><span><a href=\"#지리정보-추가하기\" data-toc-modified-id=\"지리정보-추가하기-2.7\"><span class=\"toc-item-num\">2.7&nbsp;&nbsp;</span>지리정보 추가하기</a></span><ul class=\"toc-item\"><li><span><a href=\"#lat,-lng-컬럼-추가\" data-toc-modified-id=\"lat,-lng-컬럼-추가-2.7.1\"><span class=\"toc-item-num\">2.7.1&nbsp;&nbsp;</span>lat, lng 컬럼 추가</a></span></li><li><span><a href=\"#distance-컬럼-추가\" data-toc-modified-id=\"distance-컬럼-추가-2.7.2\"><span class=\"toc-item-num\">2.7.2&nbsp;&nbsp;</span>distance 컬럼 추가</a></span></li></ul></li><li><span><a href=\"#저장하기\" data-toc-modified-id=\"저장하기-2.8\"><span class=\"toc-item-num\">2.8&nbsp;&nbsp;</span>저장하기</a></span></li></ul></li></ul></div>"
   ]
  },
  {
   "cell_type": "code",
   "execution_count": 87,
   "id": "5213cd39",
   "metadata": {
    "ExecuteTime": {
     "end_time": "2021-09-07T20:54:52.062660Z",
     "start_time": "2021-09-07T20:54:52.038198Z"
    }
   },
   "outputs": [],
   "source": [
    "# import os\n",
    "# import random #데이터 샘플링\n",
    "# from collections import Counter # count 용도\n",
    "\n",
    "import numpy as np\n",
    "import pandas as pd\n",
    "\n",
    "# from geopy import distance # 거리 계산\n",
    "# import geopy.distance\n",
    "from tqdm import tqdm\n",
    "\n",
    "import warnings\n",
    "warnings.filterwarnings('ignore')\n",
    "\n",
    "# 시각화\n",
    "import matplotlib.pyplot as plt\n",
    "%matplotlib inline\n",
    "import seaborn as sns\n",
    "plt.style.use('fivethirtyeight')\n",
    "\n",
    "# 한글, 마이너스 깨짐 방지\n",
    "from matplotlib import rc, font_manager, rcParams\n",
    "font=font_manager.FontProperties(fname=\"c:/Windows/Fonts/malgun.ttf\").get_name()\n",
    "rc('font', family = font)\n",
    "rcParams['axes.unicode_minus'] = False\n",
    "\n",
    "# import folium # 지도 관련 시각화\n",
    "# from folium.plugins import MarkerCluster #지도 관련 시각화"
   ]
  },
  {
   "cell_type": "markdown",
   "id": "d15725ac",
   "metadata": {},
   "source": [
    "## 데이터 불러오기"
   ]
  },
  {
   "cell_type": "code",
   "execution_count": 37,
   "id": "95778253",
   "metadata": {
    "ExecuteTime": {
     "end_time": "2021-09-07T05:40:47.938224Z",
     "start_time": "2021-09-07T05:40:47.902322Z"
    }
   },
   "outputs": [
    {
     "data": {
      "text/html": [
       "<div>\n",
       "<style scoped>\n",
       "    .dataframe tbody tr th:only-of-type {\n",
       "        vertical-align: middle;\n",
       "    }\n",
       "\n",
       "    .dataframe tbody tr th {\n",
       "        vertical-align: top;\n",
       "    }\n",
       "\n",
       "    .dataframe thead th {\n",
       "        text-align: right;\n",
       "    }\n",
       "</style>\n",
       "<table border=\"1\" class=\"dataframe\">\n",
       "  <thead>\n",
       "    <tr style=\"text-align: right;\">\n",
       "      <th></th>\n",
       "      <th>name</th>\n",
       "      <th>category</th>\n",
       "      <th>address</th>\n",
       "      <th>score</th>\n",
       "      <th>eval_cnt</th>\n",
       "      <th>review_cnt</th>\n",
       "    </tr>\n",
       "  </thead>\n",
       "  <tbody>\n",
       "    <tr>\n",
       "      <th>0</th>\n",
       "      <td>아리차이 신림점</td>\n",
       "      <td>중화요리</td>\n",
       "      <td>(지번) 신림동 1430-11</td>\n",
       "      <td>3.8</td>\n",
       "      <td>64건</td>\n",
       "      <td>리뷰 45</td>\n",
       "    </tr>\n",
       "    <tr>\n",
       "      <th>1</th>\n",
       "      <td>디자이너리카페</td>\n",
       "      <td>카페</td>\n",
       "      <td>(지번) 신림동 1465-12</td>\n",
       "      <td>3.6</td>\n",
       "      <td>33건</td>\n",
       "      <td>리뷰 184</td>\n",
       "    </tr>\n",
       "    <tr>\n",
       "      <th>2</th>\n",
       "      <td>원조민속순대타운</td>\n",
       "      <td>순대</td>\n",
       "      <td>(지번) 신림동 1640-31</td>\n",
       "      <td>3.3</td>\n",
       "      <td>30건</td>\n",
       "      <td>리뷰 175</td>\n",
       "    </tr>\n",
       "    <tr>\n",
       "      <th>3</th>\n",
       "      <td>월화고기 보라매직영점</td>\n",
       "      <td>육류,고기</td>\n",
       "      <td>(지번) 봉천동 732-3</td>\n",
       "      <td>4.2</td>\n",
       "      <td>103건</td>\n",
       "      <td>리뷰 215</td>\n",
       "    </tr>\n",
       "    <tr>\n",
       "      <th>4</th>\n",
       "      <td>막불감동 신림본점</td>\n",
       "      <td>냉면</td>\n",
       "      <td>(지번) 신림동 1433-60</td>\n",
       "      <td>3.7</td>\n",
       "      <td>41건</td>\n",
       "      <td>리뷰 97</td>\n",
       "    </tr>\n",
       "  </tbody>\n",
       "</table>\n",
       "</div>"
      ],
      "text/plain": [
       "          name category           address  score eval_cnt review_cnt\n",
       "0     아리차이 신림점     중화요리  (지번) 신림동 1430-11    3.8      64건      리뷰 45\n",
       "1      디자이너리카페       카페  (지번) 신림동 1465-12    3.6      33건     리뷰 184\n",
       "2     원조민속순대타운       순대  (지번) 신림동 1640-31    3.3      30건     리뷰 175\n",
       "3  월화고기 보라매직영점    육류,고기    (지번) 봉천동 732-3    4.2     103건     리뷰 215\n",
       "4    막불감동 신림본점       냉면  (지번) 신림동 1433-60    3.7      41건      리뷰 97"
      ]
     },
     "execution_count": 37,
     "metadata": {},
     "output_type": "execute_result"
    }
   ],
   "source": [
    "df = pd.read_csv('./source/restaurant_raw(mk).csv')\n",
    "df.head()"
   ]
  },
  {
   "cell_type": "code",
   "execution_count": 38,
   "id": "e52026bb",
   "metadata": {
    "ExecuteTime": {
     "end_time": "2021-09-07T05:40:50.898182Z",
     "start_time": "2021-09-07T05:40:50.878235Z"
    }
   },
   "outputs": [
    {
     "data": {
      "text/plain": [
       "(510, 6)"
      ]
     },
     "execution_count": 38,
     "metadata": {},
     "output_type": "execute_result"
    }
   ],
   "source": [
    "df.shape"
   ]
  },
  {
   "cell_type": "markdown",
   "id": "f12659f6",
   "metadata": {},
   "source": [
    "## 데이터 전처리\n",
    "\n",
    "+ 결측값 확인하기\n",
    "+ 불필요한 문자 지우기\n",
    "+ 숫자 데이터는 숫자 형식으로 바꿔주기\n",
    "+ 두 데이터 합치기"
   ]
  },
  {
   "cell_type": "markdown",
   "id": "8126bc14",
   "metadata": {},
   "source": [
    "### 중복 데이터 확인하기"
   ]
  },
  {
   "cell_type": "code",
   "execution_count": 39,
   "id": "6096a268",
   "metadata": {
    "ExecuteTime": {
     "end_time": "2021-09-07T05:40:52.429556Z",
     "start_time": "2021-09-07T05:40:52.404629Z"
    }
   },
   "outputs": [
    {
     "data": {
      "text/plain": [
       "마뇨떡볶이            2\n",
       "서울갈비 신림점         2\n",
       "서울집 신림직영점        2\n",
       "만성찬팅             2\n",
       "월화고기 보라매직영점      2\n",
       "                ..\n",
       "BHC치킨 신림역점       1\n",
       "길동우동집            1\n",
       "모자원민물장어추어탕       1\n",
       "홍콩반점0410 신림역점    1\n",
       "서울뼛국             1\n",
       "Name: name, Length: 495, dtype: int64"
      ]
     },
     "execution_count": 39,
     "metadata": {},
     "output_type": "execute_result"
    }
   ],
   "source": [
    "df['name'].value_counts()"
   ]
  },
  {
   "cell_type": "code",
   "execution_count": 40,
   "id": "1554b987",
   "metadata": {
    "ExecuteTime": {
     "end_time": "2021-09-07T05:40:55.649658Z",
     "start_time": "2021-09-07T05:40:55.621697Z"
    }
   },
   "outputs": [
    {
     "data": {
      "text/html": [
       "<div>\n",
       "<style scoped>\n",
       "    .dataframe tbody tr th:only-of-type {\n",
       "        vertical-align: middle;\n",
       "    }\n",
       "\n",
       "    .dataframe tbody tr th {\n",
       "        vertical-align: top;\n",
       "    }\n",
       "\n",
       "    .dataframe thead th {\n",
       "        text-align: right;\n",
       "    }\n",
       "</style>\n",
       "<table border=\"1\" class=\"dataframe\">\n",
       "  <thead>\n",
       "    <tr style=\"text-align: right;\">\n",
       "      <th></th>\n",
       "      <th>name</th>\n",
       "      <th>category</th>\n",
       "      <th>address</th>\n",
       "      <th>score</th>\n",
       "      <th>eval_cnt</th>\n",
       "      <th>review_cnt</th>\n",
       "    </tr>\n",
       "  </thead>\n",
       "  <tbody>\n",
       "    <tr>\n",
       "      <th>3</th>\n",
       "      <td>월화고기 보라매직영점</td>\n",
       "      <td>육류,고기</td>\n",
       "      <td>(지번) 봉천동 732-3</td>\n",
       "      <td>4.2</td>\n",
       "      <td>103건</td>\n",
       "      <td>리뷰 215</td>\n",
       "    </tr>\n",
       "    <tr>\n",
       "      <th>18</th>\n",
       "      <td>월화고기 보라매직영점</td>\n",
       "      <td>육류,고기</td>\n",
       "      <td>(지번) 봉천동 732-3</td>\n",
       "      <td>4.2</td>\n",
       "      <td>103건</td>\n",
       "      <td>리뷰 215</td>\n",
       "    </tr>\n",
       "  </tbody>\n",
       "</table>\n",
       "</div>"
      ],
      "text/plain": [
       "           name category         address  score eval_cnt review_cnt\n",
       "3   월화고기 보라매직영점    육류,고기  (지번) 봉천동 732-3    4.2     103건     리뷰 215\n",
       "18  월화고기 보라매직영점    육류,고기  (지번) 봉천동 732-3    4.2     103건     리뷰 215"
      ]
     },
     "execution_count": 40,
     "metadata": {},
     "output_type": "execute_result"
    }
   ],
   "source": [
    "df[df['name']=='월화고기 보라매직영점']"
   ]
  },
  {
   "cell_type": "code",
   "execution_count": 41,
   "id": "04bf627d",
   "metadata": {
    "ExecuteTime": {
     "end_time": "2021-09-07T05:40:56.057971Z",
     "start_time": "2021-09-07T05:40:56.030046Z"
    }
   },
   "outputs": [
    {
     "data": {
      "text/html": [
       "<div>\n",
       "<style scoped>\n",
       "    .dataframe tbody tr th:only-of-type {\n",
       "        vertical-align: middle;\n",
       "    }\n",
       "\n",
       "    .dataframe tbody tr th {\n",
       "        vertical-align: top;\n",
       "    }\n",
       "\n",
       "    .dataframe thead th {\n",
       "        text-align: right;\n",
       "    }\n",
       "</style>\n",
       "<table border=\"1\" class=\"dataframe\">\n",
       "  <thead>\n",
       "    <tr style=\"text-align: right;\">\n",
       "      <th></th>\n",
       "      <th>name</th>\n",
       "      <th>category</th>\n",
       "      <th>address</th>\n",
       "      <th>score</th>\n",
       "      <th>eval_cnt</th>\n",
       "      <th>review_cnt</th>\n",
       "    </tr>\n",
       "  </thead>\n",
       "  <tbody>\n",
       "    <tr>\n",
       "      <th>13</th>\n",
       "      <td>마뇨떡볶이</td>\n",
       "      <td>떡볶이</td>\n",
       "      <td>(지번) 신림동 1638-1</td>\n",
       "      <td>4.1</td>\n",
       "      <td>46건</td>\n",
       "      <td>리뷰 100</td>\n",
       "    </tr>\n",
       "    <tr>\n",
       "      <th>28</th>\n",
       "      <td>마뇨떡볶이</td>\n",
       "      <td>떡볶이</td>\n",
       "      <td>(지번) 신림동 1638-1</td>\n",
       "      <td>4.1</td>\n",
       "      <td>46건</td>\n",
       "      <td>리뷰 100</td>\n",
       "    </tr>\n",
       "  </tbody>\n",
       "</table>\n",
       "</div>"
      ],
      "text/plain": [
       "     name category          address  score eval_cnt review_cnt\n",
       "13  마뇨떡볶이      떡볶이  (지번) 신림동 1638-1    4.1      46건     리뷰 100\n",
       "28  마뇨떡볶이      떡볶이  (지번) 신림동 1638-1    4.1      46건     리뷰 100"
      ]
     },
     "execution_count": 41,
     "metadata": {},
     "output_type": "execute_result"
    }
   ],
   "source": [
    "df[df['name']=='마뇨떡볶이']"
   ]
  },
  {
   "cell_type": "code",
   "execution_count": 42,
   "id": "6234934a",
   "metadata": {
    "ExecuteTime": {
     "end_time": "2021-09-07T05:40:56.466966Z",
     "start_time": "2021-09-07T05:40:56.445026Z"
    }
   },
   "outputs": [
    {
     "data": {
      "text/html": [
       "<div>\n",
       "<style scoped>\n",
       "    .dataframe tbody tr th:only-of-type {\n",
       "        vertical-align: middle;\n",
       "    }\n",
       "\n",
       "    .dataframe tbody tr th {\n",
       "        vertical-align: top;\n",
       "    }\n",
       "\n",
       "    .dataframe thead th {\n",
       "        text-align: right;\n",
       "    }\n",
       "</style>\n",
       "<table border=\"1\" class=\"dataframe\">\n",
       "  <thead>\n",
       "    <tr style=\"text-align: right;\">\n",
       "      <th></th>\n",
       "      <th>name</th>\n",
       "      <th>category</th>\n",
       "      <th>address</th>\n",
       "      <th>score</th>\n",
       "      <th>eval_cnt</th>\n",
       "      <th>review_cnt</th>\n",
       "    </tr>\n",
       "  </thead>\n",
       "  <tbody>\n",
       "    <tr>\n",
       "      <th>8</th>\n",
       "      <td>만성찬팅</td>\n",
       "      <td>양꼬치</td>\n",
       "      <td>(지번) 신림동 75-42</td>\n",
       "      <td>3.3</td>\n",
       "      <td>60건</td>\n",
       "      <td>리뷰 153</td>\n",
       "    </tr>\n",
       "    <tr>\n",
       "      <th>23</th>\n",
       "      <td>만성찬팅</td>\n",
       "      <td>양꼬치</td>\n",
       "      <td>(지번) 신림동 75-42</td>\n",
       "      <td>3.3</td>\n",
       "      <td>60건</td>\n",
       "      <td>리뷰 153</td>\n",
       "    </tr>\n",
       "  </tbody>\n",
       "</table>\n",
       "</div>"
      ],
      "text/plain": [
       "    name category         address  score eval_cnt review_cnt\n",
       "8   만성찬팅      양꼬치  (지번) 신림동 75-42    3.3      60건     리뷰 153\n",
       "23  만성찬팅      양꼬치  (지번) 신림동 75-42    3.3      60건     리뷰 153"
      ]
     },
     "execution_count": 42,
     "metadata": {},
     "output_type": "execute_result"
    }
   ],
   "source": [
    "df[df['name']=='만성찬팅']"
   ]
  },
  {
   "cell_type": "code",
   "execution_count": 43,
   "id": "9058bf2f",
   "metadata": {
    "ExecuteTime": {
     "end_time": "2021-09-07T05:40:58.327228Z",
     "start_time": "2021-09-07T05:40:58.309262Z"
    }
   },
   "outputs": [],
   "source": [
    "# 중복값 제거\n",
    "df.drop_duplicates('name', inplace=True)"
   ]
  },
  {
   "cell_type": "code",
   "execution_count": 44,
   "id": "f80cdb2f",
   "metadata": {
    "ExecuteTime": {
     "end_time": "2021-09-07T05:40:58.815819Z",
     "start_time": "2021-09-07T05:40:58.804850Z"
    }
   },
   "outputs": [
    {
     "data": {
      "text/plain": [
       "(495, 6)"
      ]
     },
     "execution_count": 44,
     "metadata": {},
     "output_type": "execute_result"
    }
   ],
   "source": [
    "df.shape"
   ]
  },
  {
   "cell_type": "markdown",
   "id": "365c1c7b",
   "metadata": {},
   "source": [
    "### 결측값 처리"
   ]
  },
  {
   "cell_type": "code",
   "execution_count": 45,
   "id": "abbac020",
   "metadata": {
    "ExecuteTime": {
     "end_time": "2021-09-07T05:41:00.517082Z",
     "start_time": "2021-09-07T05:41:00.109134Z"
    }
   },
   "outputs": [
    {
     "data": {
      "image/png": "[encoded data removed]",
      "text/plain": [
       "<Figure size 504x216 with 3 Axes>"
      ]
     },
     "metadata": {},
     "output_type": "display_data"
    }
   ],
   "source": [
    "import missingno as msno\n",
    "msno.bar(df, figsize=(7, 3))\n",
    "plt.show()"
   ]
  },
  {
   "cell_type": "markdown",
   "id": "70e3ac5d",
   "metadata": {},
   "source": [
    "+ 결측값 없음!"
   ]
  },
  {
   "cell_type": "markdown",
   "id": "6591d9b4",
   "metadata": {},
   "source": [
    "### address 컬럼\n",
    "\n",
    "+ 앞부분에 '(지번)'이 불필요하게 들어가있다. 이를 삭제해주자\n",
    "+ 조건문을 이용해주자."
   ]
  },
  {
   "cell_type": "code",
   "execution_count": 46,
   "id": "466460f6",
   "metadata": {
    "ExecuteTime": {
     "end_time": "2021-09-07T05:41:04.045184Z",
     "start_time": "2021-09-07T05:41:04.029226Z"
    }
   },
   "outputs": [
    {
     "data": {
      "text/html": [
       "<div>\n",
       "<style scoped>\n",
       "    .dataframe tbody tr th:only-of-type {\n",
       "        vertical-align: middle;\n",
       "    }\n",
       "\n",
       "    .dataframe tbody tr th {\n",
       "        vertical-align: top;\n",
       "    }\n",
       "\n",
       "    .dataframe thead th {\n",
       "        text-align: right;\n",
       "    }\n",
       "</style>\n",
       "<table border=\"1\" class=\"dataframe\">\n",
       "  <thead>\n",
       "    <tr style=\"text-align: right;\">\n",
       "      <th></th>\n",
       "      <th>name</th>\n",
       "      <th>category</th>\n",
       "      <th>address</th>\n",
       "      <th>score</th>\n",
       "      <th>eval_cnt</th>\n",
       "      <th>review_cnt</th>\n",
       "    </tr>\n",
       "  </thead>\n",
       "  <tbody>\n",
       "    <tr>\n",
       "      <th>0</th>\n",
       "      <td>아리차이 신림점</td>\n",
       "      <td>중화요리</td>\n",
       "      <td>(지번) 신림동 1430-11</td>\n",
       "      <td>3.8</td>\n",
       "      <td>64건</td>\n",
       "      <td>리뷰 45</td>\n",
       "    </tr>\n",
       "    <tr>\n",
       "      <th>1</th>\n",
       "      <td>디자이너리카페</td>\n",
       "      <td>카페</td>\n",
       "      <td>(지번) 신림동 1465-12</td>\n",
       "      <td>3.6</td>\n",
       "      <td>33건</td>\n",
       "      <td>리뷰 184</td>\n",
       "    </tr>\n",
       "    <tr>\n",
       "      <th>2</th>\n",
       "      <td>원조민속순대타운</td>\n",
       "      <td>순대</td>\n",
       "      <td>(지번) 신림동 1640-31</td>\n",
       "      <td>3.3</td>\n",
       "      <td>30건</td>\n",
       "      <td>리뷰 175</td>\n",
       "    </tr>\n",
       "    <tr>\n",
       "      <th>3</th>\n",
       "      <td>월화고기 보라매직영점</td>\n",
       "      <td>육류,고기</td>\n",
       "      <td>(지번) 봉천동 732-3</td>\n",
       "      <td>4.2</td>\n",
       "      <td>103건</td>\n",
       "      <td>리뷰 215</td>\n",
       "    </tr>\n",
       "    <tr>\n",
       "      <th>4</th>\n",
       "      <td>막불감동 신림본점</td>\n",
       "      <td>냉면</td>\n",
       "      <td>(지번) 신림동 1433-60</td>\n",
       "      <td>3.7</td>\n",
       "      <td>41건</td>\n",
       "      <td>리뷰 97</td>\n",
       "    </tr>\n",
       "  </tbody>\n",
       "</table>\n",
       "</div>"
      ],
      "text/plain": [
       "          name category           address  score eval_cnt review_cnt\n",
       "0     아리차이 신림점     중화요리  (지번) 신림동 1430-11    3.8      64건      리뷰 45\n",
       "1      디자이너리카페       카페  (지번) 신림동 1465-12    3.6      33건     리뷰 184\n",
       "2     원조민속순대타운       순대  (지번) 신림동 1640-31    3.3      30건     리뷰 175\n",
       "3  월화고기 보라매직영점    육류,고기    (지번) 봉천동 732-3    4.2     103건     리뷰 215\n",
       "4    막불감동 신림본점       냉면  (지번) 신림동 1433-60    3.7      41건      리뷰 97"
      ]
     },
     "execution_count": 46,
     "metadata": {},
     "output_type": "execute_result"
    }
   ],
   "source": [
    "df.head()"
   ]
  },
  {
   "cell_type": "code",
   "execution_count": 47,
   "id": "9cea92ab",
   "metadata": {
    "ExecuteTime": {
     "end_time": "2021-09-07T05:41:05.474924Z",
     "start_time": "2021-09-07T05:41:05.172698Z"
    }
   },
   "outputs": [
    {
     "name": "stderr",
     "output_type": "stream",
     "text": [
      "100%|██████████████████████████████████████████████████████████████████████████████| 495/495 [00:00<00:00, 1748.19it/s]\n"
     ]
    }
   ],
   "source": [
    "for row in tqdm(df.index):\n",
    "    if df.address[row][:5] == '(지번) ':\n",
    "        df.address[row] = df.address[row][5:]"
   ]
  },
  {
   "cell_type": "code",
   "execution_count": 48,
   "id": "ae0c4058",
   "metadata": {
    "ExecuteTime": {
     "end_time": "2021-09-07T05:41:06.442606Z",
     "start_time": "2021-09-07T05:41:06.405678Z"
    }
   },
   "outputs": [
    {
     "data": {
      "text/html": [
       "<div>\n",
       "<style scoped>\n",
       "    .dataframe tbody tr th:only-of-type {\n",
       "        vertical-align: middle;\n",
       "    }\n",
       "\n",
       "    .dataframe tbody tr th {\n",
       "        vertical-align: top;\n",
       "    }\n",
       "\n",
       "    .dataframe thead th {\n",
       "        text-align: right;\n",
       "    }\n",
       "</style>\n",
       "<table border=\"1\" class=\"dataframe\">\n",
       "  <thead>\n",
       "    <tr style=\"text-align: right;\">\n",
       "      <th></th>\n",
       "      <th>name</th>\n",
       "      <th>category</th>\n",
       "      <th>address</th>\n",
       "      <th>score</th>\n",
       "      <th>eval_cnt</th>\n",
       "      <th>review_cnt</th>\n",
       "    </tr>\n",
       "  </thead>\n",
       "  <tbody>\n",
       "    <tr>\n",
       "      <th>0</th>\n",
       "      <td>아리차이 신림점</td>\n",
       "      <td>중화요리</td>\n",
       "      <td>신림동 1430-11</td>\n",
       "      <td>3.8</td>\n",
       "      <td>64건</td>\n",
       "      <td>리뷰 45</td>\n",
       "    </tr>\n",
       "    <tr>\n",
       "      <th>1</th>\n",
       "      <td>디자이너리카페</td>\n",
       "      <td>카페</td>\n",
       "      <td>신림동 1465-12</td>\n",
       "      <td>3.6</td>\n",
       "      <td>33건</td>\n",
       "      <td>리뷰 184</td>\n",
       "    </tr>\n",
       "    <tr>\n",
       "      <th>2</th>\n",
       "      <td>원조민속순대타운</td>\n",
       "      <td>순대</td>\n",
       "      <td>신림동 1640-31</td>\n",
       "      <td>3.3</td>\n",
       "      <td>30건</td>\n",
       "      <td>리뷰 175</td>\n",
       "    </tr>\n",
       "    <tr>\n",
       "      <th>3</th>\n",
       "      <td>월화고기 보라매직영점</td>\n",
       "      <td>육류,고기</td>\n",
       "      <td>봉천동 732-3</td>\n",
       "      <td>4.2</td>\n",
       "      <td>103건</td>\n",
       "      <td>리뷰 215</td>\n",
       "    </tr>\n",
       "    <tr>\n",
       "      <th>4</th>\n",
       "      <td>막불감동 신림본점</td>\n",
       "      <td>냉면</td>\n",
       "      <td>신림동 1433-60</td>\n",
       "      <td>3.7</td>\n",
       "      <td>41건</td>\n",
       "      <td>리뷰 97</td>\n",
       "    </tr>\n",
       "    <tr>\n",
       "      <th>...</th>\n",
       "      <td>...</td>\n",
       "      <td>...</td>\n",
       "      <td>...</td>\n",
       "      <td>...</td>\n",
       "      <td>...</td>\n",
       "      <td>...</td>\n",
       "    </tr>\n",
       "    <tr>\n",
       "      <th>505</th>\n",
       "      <td>빽다방 신림역2호점</td>\n",
       "      <td>커피전문점</td>\n",
       "      <td>신림동 1641-12</td>\n",
       "      <td>3.8</td>\n",
       "      <td>5건</td>\n",
       "      <td>리뷰 3</td>\n",
       "    </tr>\n",
       "    <tr>\n",
       "      <th>506</th>\n",
       "      <td>궁중 삼계탕</td>\n",
       "      <td>삼계탕</td>\n",
       "      <td>신대방동 395-66</td>\n",
       "      <td>3.2</td>\n",
       "      <td>6건</td>\n",
       "      <td>리뷰 5</td>\n",
       "    </tr>\n",
       "    <tr>\n",
       "      <th>507</th>\n",
       "      <td>본죽 신림역점</td>\n",
       "      <td>죽</td>\n",
       "      <td>신림동 1637-3</td>\n",
       "      <td>2.6</td>\n",
       "      <td>9건</td>\n",
       "      <td>리뷰 3</td>\n",
       "    </tr>\n",
       "    <tr>\n",
       "      <th>508</th>\n",
       "      <td>고고즉석떡볶이 신림역점</td>\n",
       "      <td>분식</td>\n",
       "      <td>신림동 1424-9</td>\n",
       "      <td>4.5</td>\n",
       "      <td>4건</td>\n",
       "      <td>리뷰 13</td>\n",
       "    </tr>\n",
       "    <tr>\n",
       "      <th>509</th>\n",
       "      <td>장충영양족발</td>\n",
       "      <td>족발,보쌈</td>\n",
       "      <td>신림동 10-627</td>\n",
       "      <td>5.0</td>\n",
       "      <td>7건</td>\n",
       "      <td>리뷰 11</td>\n",
       "    </tr>\n",
       "  </tbody>\n",
       "</table>\n",
       "<p>495 rows × 6 columns</p>\n",
       "</div>"
      ],
      "text/plain": [
       "             name category      address  score eval_cnt review_cnt\n",
       "0        아리차이 신림점     중화요리  신림동 1430-11    3.8      64건      리뷰 45\n",
       "1         디자이너리카페       카페  신림동 1465-12    3.6      33건     리뷰 184\n",
       "2        원조민속순대타운       순대  신림동 1640-31    3.3      30건     리뷰 175\n",
       "3     월화고기 보라매직영점    육류,고기    봉천동 732-3    4.2     103건     리뷰 215\n",
       "4       막불감동 신림본점       냉면  신림동 1433-60    3.7      41건      리뷰 97\n",
       "..            ...      ...          ...    ...      ...        ...\n",
       "505    빽다방 신림역2호점    커피전문점  신림동 1641-12    3.8       5건       리뷰 3\n",
       "506        궁중 삼계탕      삼계탕  신대방동 395-66    3.2       6건       리뷰 5\n",
       "507       본죽 신림역점        죽   신림동 1637-3    2.6       9건       리뷰 3\n",
       "508  고고즉석떡볶이 신림역점       분식   신림동 1424-9    4.5       4건      리뷰 13\n",
       "509        장충영양족발    족발,보쌈   신림동 10-627    5.0       7건      리뷰 11\n",
       "\n",
       "[495 rows x 6 columns]"
      ]
     },
     "execution_count": 48,
     "metadata": {},
     "output_type": "execute_result"
    }
   ],
   "source": [
    "df"
   ]
  },
  {
   "cell_type": "markdown",
   "id": "f651c30c",
   "metadata": {},
   "source": [
    "### eval_cnt 컬럼\n",
    "\n",
    "+ 숫자가 아닌 다른 문자를 삭제\n",
    "+ 컬럼을 int 형식으로 변경해주자."
   ]
  },
  {
   "cell_type": "markdown",
   "id": "e3199441",
   "metadata": {},
   "source": [
    "#### 문자 제거"
   ]
  },
  {
   "cell_type": "markdown",
   "id": "ed2b1895",
   "metadata": {
    "ExecuteTime": {
     "end_time": "2021-09-07T05:41:12.641085Z",
     "start_time": "2021-09-07T05:41:12.629117Z"
    }
   },
   "source": [
    "+ 해당 컬럼의 모든 레코드가 '건'이라는 글자로 끝나는지 확인."
   ]
  },
  {
   "cell_type": "code",
   "execution_count": 50,
   "id": "65e38a2d",
   "metadata": {
    "ExecuteTime": {
     "end_time": "2021-09-07T05:42:33.120289Z",
     "start_time": "2021-09-07T05:42:33.095352Z"
    }
   },
   "outputs": [
    {
     "data": {
      "text/plain": [
       "건    495\n",
       "Name: eval_cnt, dtype: int64"
      ]
     },
     "execution_count": 50,
     "metadata": {},
     "output_type": "execute_result"
    }
   ],
   "source": [
    "df.eval_cnt.apply(lambda x: str(x)[-1]).value_counts()"
   ]
  },
  {
   "cell_type": "markdown",
   "id": "e6259bcd",
   "metadata": {
    "ExecuteTime": {
     "end_time": "2021-09-07T05:40:17.504801Z",
     "start_time": "2021-09-07T05:40:17.017297Z"
    }
   },
   "source": [
    "+ eval_cnt의 모든 레코드에 대해 '건'을 삭제해주자."
   ]
  },
  {
   "cell_type": "code",
   "execution_count": 54,
   "id": "96d51777",
   "metadata": {
    "ExecuteTime": {
     "end_time": "2021-09-07T05:44:59.705196Z",
     "start_time": "2021-09-07T05:44:59.677273Z"
    }
   },
   "outputs": [
    {
     "data": {
      "text/html": [
       "<div>\n",
       "<style scoped>\n",
       "    .dataframe tbody tr th:only-of-type {\n",
       "        vertical-align: middle;\n",
       "    }\n",
       "\n",
       "    .dataframe tbody tr th {\n",
       "        vertical-align: top;\n",
       "    }\n",
       "\n",
       "    .dataframe thead th {\n",
       "        text-align: right;\n",
       "    }\n",
       "</style>\n",
       "<table border=\"1\" class=\"dataframe\">\n",
       "  <thead>\n",
       "    <tr style=\"text-align: right;\">\n",
       "      <th></th>\n",
       "      <th>name</th>\n",
       "      <th>category</th>\n",
       "      <th>address</th>\n",
       "      <th>score</th>\n",
       "      <th>eval_cnt</th>\n",
       "      <th>review_cnt</th>\n",
       "    </tr>\n",
       "  </thead>\n",
       "  <tbody>\n",
       "    <tr>\n",
       "      <th>0</th>\n",
       "      <td>아리차이 신림점</td>\n",
       "      <td>중화요리</td>\n",
       "      <td>신림동 1430-11</td>\n",
       "      <td>3.8</td>\n",
       "      <td>64</td>\n",
       "      <td>리뷰 45</td>\n",
       "    </tr>\n",
       "    <tr>\n",
       "      <th>1</th>\n",
       "      <td>디자이너리카페</td>\n",
       "      <td>카페</td>\n",
       "      <td>신림동 1465-12</td>\n",
       "      <td>3.6</td>\n",
       "      <td>33</td>\n",
       "      <td>리뷰 184</td>\n",
       "    </tr>\n",
       "    <tr>\n",
       "      <th>2</th>\n",
       "      <td>원조민속순대타운</td>\n",
       "      <td>순대</td>\n",
       "      <td>신림동 1640-31</td>\n",
       "      <td>3.3</td>\n",
       "      <td>30</td>\n",
       "      <td>리뷰 175</td>\n",
       "    </tr>\n",
       "    <tr>\n",
       "      <th>3</th>\n",
       "      <td>월화고기 보라매직영점</td>\n",
       "      <td>육류,고기</td>\n",
       "      <td>봉천동 732-3</td>\n",
       "      <td>4.2</td>\n",
       "      <td>103</td>\n",
       "      <td>리뷰 215</td>\n",
       "    </tr>\n",
       "    <tr>\n",
       "      <th>4</th>\n",
       "      <td>막불감동 신림본점</td>\n",
       "      <td>냉면</td>\n",
       "      <td>신림동 1433-60</td>\n",
       "      <td>3.7</td>\n",
       "      <td>41</td>\n",
       "      <td>리뷰 97</td>\n",
       "    </tr>\n",
       "  </tbody>\n",
       "</table>\n",
       "</div>"
      ],
      "text/plain": [
       "          name category      address  score eval_cnt review_cnt\n",
       "0     아리차이 신림점     중화요리  신림동 1430-11    3.8       64      리뷰 45\n",
       "1      디자이너리카페       카페  신림동 1465-12    3.6       33     리뷰 184\n",
       "2     원조민속순대타운       순대  신림동 1640-31    3.3       30     리뷰 175\n",
       "3  월화고기 보라매직영점    육류,고기    봉천동 732-3    4.2      103     리뷰 215\n",
       "4    막불감동 신림본점       냉면  신림동 1433-60    3.7       41      리뷰 97"
      ]
     },
     "execution_count": 54,
     "metadata": {},
     "output_type": "execute_result"
    }
   ],
   "source": [
    "df['eval_cnt'] = df['eval_cnt'].apply(lambda x: str(x)[:-1])\n",
    "df.head()"
   ]
  },
  {
   "cell_type": "markdown",
   "id": "ceba9e9e",
   "metadata": {},
   "source": [
    "#### 데이터 형식 변경\n",
    "\n",
    "+ object to int32"
   ]
  },
  {
   "cell_type": "code",
   "execution_count": 55,
   "id": "184e5036",
   "metadata": {
    "ExecuteTime": {
     "end_time": "2021-09-07T05:53:05.855999Z",
     "start_time": "2021-09-07T05:53:05.823091Z"
    }
   },
   "outputs": [
    {
     "name": "stdout",
     "output_type": "stream",
     "text": [
      "<class 'pandas.core.frame.DataFrame'>\n",
      "Int64Index: 495 entries, 0 to 509\n",
      "Data columns (total 6 columns):\n",
      " #   Column      Non-Null Count  Dtype  \n",
      "---  ------      --------------  -----  \n",
      " 0   name        495 non-null    object \n",
      " 1   category    495 non-null    object \n",
      " 2   address     495 non-null    object \n",
      " 3   score       495 non-null    float64\n",
      " 4   eval_cnt    495 non-null    object \n",
      " 5   review_cnt  495 non-null    object \n",
      "dtypes: float64(1), object(5)\n",
      "memory usage: 43.2+ KB\n"
     ]
    }
   ],
   "source": [
    "df.info()"
   ]
  },
  {
   "cell_type": "code",
   "execution_count": 62,
   "id": "bce51b5b",
   "metadata": {
    "ExecuteTime": {
     "end_time": "2021-09-07T06:17:10.406785Z",
     "start_time": "2021-09-07T06:17:10.389831Z"
    }
   },
   "outputs": [],
   "source": [
    "df['eval_cnt'] = df['eval_cnt'].astype(int)"
   ]
  },
  {
   "cell_type": "code",
   "execution_count": 63,
   "id": "fcd80d16",
   "metadata": {
    "ExecuteTime": {
     "end_time": "2021-09-07T06:17:19.122707Z",
     "start_time": "2021-09-07T06:17:19.102758Z"
    }
   },
   "outputs": [
    {
     "name": "stdout",
     "output_type": "stream",
     "text": [
      "<class 'pandas.core.frame.DataFrame'>\n",
      "Int64Index: 495 entries, 0 to 509\n",
      "Data columns (total 6 columns):\n",
      " #   Column      Non-Null Count  Dtype  \n",
      "---  ------      --------------  -----  \n",
      " 0   name        495 non-null    object \n",
      " 1   category    495 non-null    object \n",
      " 2   address     495 non-null    object \n",
      " 3   score       495 non-null    float64\n",
      " 4   eval_cnt    495 non-null    int32  \n",
      " 5   review_cnt  495 non-null    object \n",
      "dtypes: float64(1), int32(1), object(4)\n",
      "memory usage: 41.3+ KB\n"
     ]
    }
   ],
   "source": [
    "df.info()"
   ]
  },
  {
   "cell_type": "markdown",
   "id": "86dcab2a",
   "metadata": {},
   "source": [
    "### review_cnt 컬럼\n",
    "\n",
    "+ '리뷰' 문자 삭제\n",
    "+ int로 데이터 타입 변경"
   ]
  },
  {
   "cell_type": "markdown",
   "id": "0a45f11c",
   "metadata": {},
   "source": [
    "#### '리뷰' 삭제"
   ]
  },
  {
   "cell_type": "code",
   "execution_count": 64,
   "id": "f06b55a9",
   "metadata": {
    "ExecuteTime": {
     "end_time": "2021-09-07T06:17:49.988717Z",
     "start_time": "2021-09-07T06:17:49.948787Z"
    }
   },
   "outputs": [
    {
     "data": {
      "text/html": [
       "<div>\n",
       "<style scoped>\n",
       "    .dataframe tbody tr th:only-of-type {\n",
       "        vertical-align: middle;\n",
       "    }\n",
       "\n",
       "    .dataframe tbody tr th {\n",
       "        vertical-align: top;\n",
       "    }\n",
       "\n",
       "    .dataframe thead th {\n",
       "        text-align: right;\n",
       "    }\n",
       "</style>\n",
       "<table border=\"1\" class=\"dataframe\">\n",
       "  <thead>\n",
       "    <tr style=\"text-align: right;\">\n",
       "      <th></th>\n",
       "      <th>name</th>\n",
       "      <th>category</th>\n",
       "      <th>address</th>\n",
       "      <th>score</th>\n",
       "      <th>eval_cnt</th>\n",
       "      <th>review_cnt</th>\n",
       "    </tr>\n",
       "  </thead>\n",
       "  <tbody>\n",
       "    <tr>\n",
       "      <th>0</th>\n",
       "      <td>아리차이 신림점</td>\n",
       "      <td>중화요리</td>\n",
       "      <td>신림동 1430-11</td>\n",
       "      <td>3.8</td>\n",
       "      <td>64</td>\n",
       "      <td>리뷰 45</td>\n",
       "    </tr>\n",
       "    <tr>\n",
       "      <th>1</th>\n",
       "      <td>디자이너리카페</td>\n",
       "      <td>카페</td>\n",
       "      <td>신림동 1465-12</td>\n",
       "      <td>3.6</td>\n",
       "      <td>33</td>\n",
       "      <td>리뷰 184</td>\n",
       "    </tr>\n",
       "    <tr>\n",
       "      <th>2</th>\n",
       "      <td>원조민속순대타운</td>\n",
       "      <td>순대</td>\n",
       "      <td>신림동 1640-31</td>\n",
       "      <td>3.3</td>\n",
       "      <td>30</td>\n",
       "      <td>리뷰 175</td>\n",
       "    </tr>\n",
       "    <tr>\n",
       "      <th>3</th>\n",
       "      <td>월화고기 보라매직영점</td>\n",
       "      <td>육류,고기</td>\n",
       "      <td>봉천동 732-3</td>\n",
       "      <td>4.2</td>\n",
       "      <td>103</td>\n",
       "      <td>리뷰 215</td>\n",
       "    </tr>\n",
       "    <tr>\n",
       "      <th>4</th>\n",
       "      <td>막불감동 신림본점</td>\n",
       "      <td>냉면</td>\n",
       "      <td>신림동 1433-60</td>\n",
       "      <td>3.7</td>\n",
       "      <td>41</td>\n",
       "      <td>리뷰 97</td>\n",
       "    </tr>\n",
       "    <tr>\n",
       "      <th>...</th>\n",
       "      <td>...</td>\n",
       "      <td>...</td>\n",
       "      <td>...</td>\n",
       "      <td>...</td>\n",
       "      <td>...</td>\n",
       "      <td>...</td>\n",
       "    </tr>\n",
       "    <tr>\n",
       "      <th>505</th>\n",
       "      <td>빽다방 신림역2호점</td>\n",
       "      <td>커피전문점</td>\n",
       "      <td>신림동 1641-12</td>\n",
       "      <td>3.8</td>\n",
       "      <td>5</td>\n",
       "      <td>리뷰 3</td>\n",
       "    </tr>\n",
       "    <tr>\n",
       "      <th>506</th>\n",
       "      <td>궁중 삼계탕</td>\n",
       "      <td>삼계탕</td>\n",
       "      <td>신대방동 395-66</td>\n",
       "      <td>3.2</td>\n",
       "      <td>6</td>\n",
       "      <td>리뷰 5</td>\n",
       "    </tr>\n",
       "    <tr>\n",
       "      <th>507</th>\n",
       "      <td>본죽 신림역점</td>\n",
       "      <td>죽</td>\n",
       "      <td>신림동 1637-3</td>\n",
       "      <td>2.6</td>\n",
       "      <td>9</td>\n",
       "      <td>리뷰 3</td>\n",
       "    </tr>\n",
       "    <tr>\n",
       "      <th>508</th>\n",
       "      <td>고고즉석떡볶이 신림역점</td>\n",
       "      <td>분식</td>\n",
       "      <td>신림동 1424-9</td>\n",
       "      <td>4.5</td>\n",
       "      <td>4</td>\n",
       "      <td>리뷰 13</td>\n",
       "    </tr>\n",
       "    <tr>\n",
       "      <th>509</th>\n",
       "      <td>장충영양족발</td>\n",
       "      <td>족발,보쌈</td>\n",
       "      <td>신림동 10-627</td>\n",
       "      <td>5.0</td>\n",
       "      <td>7</td>\n",
       "      <td>리뷰 11</td>\n",
       "    </tr>\n",
       "  </tbody>\n",
       "</table>\n",
       "<p>495 rows × 6 columns</p>\n",
       "</div>"
      ],
      "text/plain": [
       "             name category      address  score  eval_cnt review_cnt\n",
       "0        아리차이 신림점     중화요리  신림동 1430-11    3.8        64      리뷰 45\n",
       "1         디자이너리카페       카페  신림동 1465-12    3.6        33     리뷰 184\n",
       "2        원조민속순대타운       순대  신림동 1640-31    3.3        30     리뷰 175\n",
       "3     월화고기 보라매직영점    육류,고기    봉천동 732-3    4.2       103     리뷰 215\n",
       "4       막불감동 신림본점       냉면  신림동 1433-60    3.7        41      리뷰 97\n",
       "..            ...      ...          ...    ...       ...        ...\n",
       "505    빽다방 신림역2호점    커피전문점  신림동 1641-12    3.8         5       리뷰 3\n",
       "506        궁중 삼계탕      삼계탕  신대방동 395-66    3.2         6       리뷰 5\n",
       "507       본죽 신림역점        죽   신림동 1637-3    2.6         9       리뷰 3\n",
       "508  고고즉석떡볶이 신림역점       분식   신림동 1424-9    4.5         4      리뷰 13\n",
       "509        장충영양족발    족발,보쌈   신림동 10-627    5.0         7      리뷰 11\n",
       "\n",
       "[495 rows x 6 columns]"
      ]
     },
     "execution_count": 64,
     "metadata": {},
     "output_type": "execute_result"
    }
   ],
   "source": [
    "df"
   ]
  },
  {
   "cell_type": "code",
   "execution_count": 66,
   "id": "d35ce399",
   "metadata": {
    "ExecuteTime": {
     "end_time": "2021-09-07T06:19:31.279769Z",
     "start_time": "2021-09-07T06:19:31.268808Z"
    }
   },
   "outputs": [
    {
     "data": {
      "text/plain": [
       "리뷰     495\n",
       "Name: review_cnt, dtype: int64"
      ]
     },
     "execution_count": 66,
     "metadata": {},
     "output_type": "execute_result"
    }
   ],
   "source": [
    "df['review_cnt'].apply(lambda x: str(x)[:3]).value_counts()"
   ]
  },
  {
   "cell_type": "code",
   "execution_count": 69,
   "id": "854f8df0",
   "metadata": {
    "ExecuteTime": {
     "end_time": "2021-09-07T06:21:19.289744Z",
     "start_time": "2021-09-07T06:21:19.277810Z"
    }
   },
   "outputs": [],
   "source": [
    "df['review_cnt'] = df['review_cnt'].apply(lambda x: str(x)[3:])"
   ]
  },
  {
   "cell_type": "code",
   "execution_count": 70,
   "id": "c654d4a4",
   "metadata": {
    "ExecuteTime": {
     "end_time": "2021-09-07T06:21:23.234708Z",
     "start_time": "2021-09-07T06:21:23.212765Z"
    }
   },
   "outputs": [
    {
     "data": {
      "text/html": [
       "<div>\n",
       "<style scoped>\n",
       "    .dataframe tbody tr th:only-of-type {\n",
       "        vertical-align: middle;\n",
       "    }\n",
       "\n",
       "    .dataframe tbody tr th {\n",
       "        vertical-align: top;\n",
       "    }\n",
       "\n",
       "    .dataframe thead th {\n",
       "        text-align: right;\n",
       "    }\n",
       "</style>\n",
       "<table border=\"1\" class=\"dataframe\">\n",
       "  <thead>\n",
       "    <tr style=\"text-align: right;\">\n",
       "      <th></th>\n",
       "      <th>name</th>\n",
       "      <th>category</th>\n",
       "      <th>address</th>\n",
       "      <th>score</th>\n",
       "      <th>eval_cnt</th>\n",
       "      <th>review_cnt</th>\n",
       "    </tr>\n",
       "  </thead>\n",
       "  <tbody>\n",
       "    <tr>\n",
       "      <th>0</th>\n",
       "      <td>아리차이 신림점</td>\n",
       "      <td>중화요리</td>\n",
       "      <td>신림동 1430-11</td>\n",
       "      <td>3.8</td>\n",
       "      <td>64</td>\n",
       "      <td>45</td>\n",
       "    </tr>\n",
       "    <tr>\n",
       "      <th>1</th>\n",
       "      <td>디자이너리카페</td>\n",
       "      <td>카페</td>\n",
       "      <td>신림동 1465-12</td>\n",
       "      <td>3.6</td>\n",
       "      <td>33</td>\n",
       "      <td>184</td>\n",
       "    </tr>\n",
       "    <tr>\n",
       "      <th>2</th>\n",
       "      <td>원조민속순대타운</td>\n",
       "      <td>순대</td>\n",
       "      <td>신림동 1640-31</td>\n",
       "      <td>3.3</td>\n",
       "      <td>30</td>\n",
       "      <td>175</td>\n",
       "    </tr>\n",
       "    <tr>\n",
       "      <th>3</th>\n",
       "      <td>월화고기 보라매직영점</td>\n",
       "      <td>육류,고기</td>\n",
       "      <td>봉천동 732-3</td>\n",
       "      <td>4.2</td>\n",
       "      <td>103</td>\n",
       "      <td>215</td>\n",
       "    </tr>\n",
       "    <tr>\n",
       "      <th>4</th>\n",
       "      <td>막불감동 신림본점</td>\n",
       "      <td>냉면</td>\n",
       "      <td>신림동 1433-60</td>\n",
       "      <td>3.7</td>\n",
       "      <td>41</td>\n",
       "      <td>97</td>\n",
       "    </tr>\n",
       "  </tbody>\n",
       "</table>\n",
       "</div>"
      ],
      "text/plain": [
       "          name category      address  score  eval_cnt review_cnt\n",
       "0     아리차이 신림점     중화요리  신림동 1430-11    3.8        64         45\n",
       "1      디자이너리카페       카페  신림동 1465-12    3.6        33        184\n",
       "2     원조민속순대타운       순대  신림동 1640-31    3.3        30        175\n",
       "3  월화고기 보라매직영점    육류,고기    봉천동 732-3    4.2       103        215\n",
       "4    막불감동 신림본점       냉면  신림동 1433-60    3.7        41         97"
      ]
     },
     "execution_count": 70,
     "metadata": {},
     "output_type": "execute_result"
    }
   ],
   "source": [
    "df.head()"
   ]
  },
  {
   "cell_type": "markdown",
   "id": "2a9e6361",
   "metadata": {},
   "source": [
    "#### 데이터 타입 int로 바꿔주기"
   ]
  },
  {
   "cell_type": "code",
   "execution_count": 71,
   "id": "4b2729af",
   "metadata": {
    "ExecuteTime": {
     "end_time": "2021-09-07T06:21:42.602670Z",
     "start_time": "2021-09-07T06:21:42.573747Z"
    }
   },
   "outputs": [
    {
     "name": "stdout",
     "output_type": "stream",
     "text": [
      "<class 'pandas.core.frame.DataFrame'>\n",
      "Int64Index: 495 entries, 0 to 509\n",
      "Data columns (total 6 columns):\n",
      " #   Column      Non-Null Count  Dtype  \n",
      "---  ------      --------------  -----  \n",
      " 0   name        495 non-null    object \n",
      " 1   category    495 non-null    object \n",
      " 2   address     495 non-null    object \n",
      " 3   score       495 non-null    float64\n",
      " 4   eval_cnt    495 non-null    int32  \n",
      " 5   review_cnt  495 non-null    object \n",
      "dtypes: float64(1), int32(1), object(4)\n",
      "memory usage: 41.3+ KB\n"
     ]
    }
   ],
   "source": [
    "df.info()"
   ]
  },
  {
   "cell_type": "code",
   "execution_count": 73,
   "id": "36340652",
   "metadata": {
    "ExecuteTime": {
     "end_time": "2021-09-07T06:22:19.600574Z",
     "start_time": "2021-09-07T06:22:19.590634Z"
    }
   },
   "outputs": [],
   "source": [
    "df['review_cnt'] = df['review_cnt'].astype(int)"
   ]
  },
  {
   "cell_type": "code",
   "execution_count": 74,
   "id": "99a28e54",
   "metadata": {
    "ExecuteTime": {
     "end_time": "2021-09-07T06:22:21.993638Z",
     "start_time": "2021-09-07T06:22:21.965709Z"
    }
   },
   "outputs": [
    {
     "name": "stdout",
     "output_type": "stream",
     "text": [
      "<class 'pandas.core.frame.DataFrame'>\n",
      "Int64Index: 495 entries, 0 to 509\n",
      "Data columns (total 6 columns):\n",
      " #   Column      Non-Null Count  Dtype  \n",
      "---  ------      --------------  -----  \n",
      " 0   name        495 non-null    object \n",
      " 1   category    495 non-null    object \n",
      " 2   address     495 non-null    object \n",
      " 3   score       495 non-null    float64\n",
      " 4   eval_cnt    495 non-null    int32  \n",
      " 5   review_cnt  495 non-null    int32  \n",
      "dtypes: float64(1), int32(2), object(3)\n",
      "memory usage: 39.4+ KB\n"
     ]
    }
   ],
   "source": [
    "df.info()"
   ]
  },
  {
   "cell_type": "markdown",
   "id": "111d3659",
   "metadata": {},
   "source": [
    "### 이상값 처리\n",
    "\n",
    "+ eval_cnt 컬럼과 review_cnt 컬럼의 이상치를 확인하고 처리해주자"
   ]
  },
  {
   "cell_type": "markdown",
   "id": "aaa22a21",
   "metadata": {},
   "source": [
    "#### eval_cnt"
   ]
  },
  {
   "cell_type": "code",
   "execution_count": 76,
   "id": "c8a0c9f4",
   "metadata": {
    "ExecuteTime": {
     "end_time": "2021-09-07T06:25:00.788598Z",
     "start_time": "2021-09-07T06:25:00.772639Z"
    }
   },
   "outputs": [
    {
     "data": {
      "text/plain": [
       "0      21\n",
       "1      29\n",
       "2      34\n",
       "3      50\n",
       "4      38\n",
       "5      42\n",
       "6      31\n",
       "7      26\n",
       "8      26\n",
       "9      20\n",
       "10     23\n",
       "11     15\n",
       "12     21\n",
       "13     12\n",
       "14      9\n",
       "15     15\n",
       "16     11\n",
       "17      4\n",
       "18      8\n",
       "19      1\n",
       "20      5\n",
       "21      1\n",
       "22      3\n",
       "23      5\n",
       "24      6\n",
       "25      2\n",
       "26      3\n",
       "27      2\n",
       "28      4\n",
       "29      2\n",
       "30      3\n",
       "32      2\n",
       "33      2\n",
       "37      2\n",
       "41      1\n",
       "46      2\n",
       "47      1\n",
       "48      1\n",
       "49      2\n",
       "53      2\n",
       "54      1\n",
       "56      1\n",
       "60      2\n",
       "64      1\n",
       "78      1\n",
       "103     1\n",
       "118     1\n",
       "Name: eval_cnt, dtype: int64"
      ]
     },
     "execution_count": 76,
     "metadata": {},
     "output_type": "execute_result"
    }
   ],
   "source": [
    "df['eval_cnt'].value_counts().sort_index()"
   ]
  },
  {
   "cell_type": "markdown",
   "id": "e5e3bdb7",
   "metadata": {},
   "source": [
    "#### review_cnt"
   ]
  },
  {
   "cell_type": "code",
   "execution_count": 82,
   "id": "6d2fbf13",
   "metadata": {
    "ExecuteTime": {
     "end_time": "2021-09-07T06:28:21.383554Z",
     "start_time": "2021-09-07T06:28:21.365614Z"
    }
   },
   "outputs": [
    {
     "data": {
      "text/plain": [
       "0       6\n",
       "1       4\n",
       "2      17\n",
       "3      17\n",
       "4      16\n",
       "       ..\n",
       "219     1\n",
       "249     1\n",
       "290     1\n",
       "308     1\n",
       "580     1\n",
       "Name: review_cnt, Length: 120, dtype: int64"
      ]
     },
     "execution_count": 82,
     "metadata": {},
     "output_type": "execute_result"
    }
   ],
   "source": [
    "df['review_cnt'].value_counts().sort_index()"
   ]
  },
  {
   "cell_type": "markdown",
   "id": "a256a2e6",
   "metadata": {
    "ExecuteTime": {
     "end_time": "2021-09-07T20:35:06.671713Z",
     "start_time": "2021-09-07T20:35:06.643788Z"
    }
   },
   "source": [
    "### 지리정보 추가하기\n",
    "\n",
    "+ 구글맵을 이용해서 주소를 기반으로 위도, 경도를 추가해주자\n",
    "+ 신림역과의 거리 또한 추가."
   ]
  },
  {
   "cell_type": "markdown",
   "id": "86716e6b",
   "metadata": {},
   "source": [
    "#### lat, lng 컬럼 추가"
   ]
  },
  {
   "cell_type": "code",
   "execution_count": 125,
   "id": "2c617b5a",
   "metadata": {
    "ExecuteTime": {
     "end_time": "2021-09-08T00:34:29.047749Z",
     "start_time": "2021-09-08T00:34:29.033823Z"
    }
   },
   "outputs": [],
   "source": [
    "import googlemaps\n",
    "gmap_key = '********'\n",
    "gmaps = googlemaps.Client(key=gmap_key)"
   ]
  },
  {
   "cell_type": "code",
   "execution_count": 127,
   "id": "70896ae4",
   "metadata": {
    "ExecuteTime": {
     "end_time": "2021-09-08T00:37:15.304559Z",
     "start_time": "2021-09-08T00:34:38.553634Z"
    }
   },
   "outputs": [
    {
     "name": "stderr",
     "output_type": "stream",
     "text": [
      "100%|████████████████████████████████████████████████████████████████████████████████| 495/495 [02:36<00:00,  3.16it/s]"
     ]
    },
    {
     "name": "stdout",
     "output_type": "stream",
     "text": [
      "0\n"
     ]
    },
    {
     "name": "stderr",
     "output_type": "stream",
     "text": [
      "\n"
     ]
    },
    {
     "data": {
      "text/html": [
       "<div>\n",
       "<style scoped>\n",
       "    .dataframe tbody tr th:only-of-type {\n",
       "        vertical-align: middle;\n",
       "    }\n",
       "\n",
       "    .dataframe tbody tr th {\n",
       "        vertical-align: top;\n",
       "    }\n",
       "\n",
       "    .dataframe thead th {\n",
       "        text-align: right;\n",
       "    }\n",
       "</style>\n",
       "<table border=\"1\" class=\"dataframe\">\n",
       "  <thead>\n",
       "    <tr style=\"text-align: right;\">\n",
       "      <th></th>\n",
       "      <th>name</th>\n",
       "      <th>category</th>\n",
       "      <th>address</th>\n",
       "      <th>score</th>\n",
       "      <th>eval_cnt</th>\n",
       "      <th>review_cnt</th>\n",
       "      <th>lat</th>\n",
       "      <th>lng</th>\n",
       "    </tr>\n",
       "  </thead>\n",
       "  <tbody>\n",
       "    <tr>\n",
       "      <th>0</th>\n",
       "      <td>아리차이 신림점</td>\n",
       "      <td>중화요리</td>\n",
       "      <td>신림동 1430-11</td>\n",
       "      <td>3.8</td>\n",
       "      <td>64</td>\n",
       "      <td>45</td>\n",
       "      <td>37.487588</td>\n",
       "      <td>126.928260</td>\n",
       "    </tr>\n",
       "    <tr>\n",
       "      <th>1</th>\n",
       "      <td>디자이너리카페</td>\n",
       "      <td>카페</td>\n",
       "      <td>신림동 1465-12</td>\n",
       "      <td>3.6</td>\n",
       "      <td>33</td>\n",
       "      <td>184</td>\n",
       "      <td>37.485008</td>\n",
       "      <td>126.924088</td>\n",
       "    </tr>\n",
       "    <tr>\n",
       "      <th>2</th>\n",
       "      <td>원조민속순대타운</td>\n",
       "      <td>순대</td>\n",
       "      <td>신림동 1640-31</td>\n",
       "      <td>3.3</td>\n",
       "      <td>30</td>\n",
       "      <td>175</td>\n",
       "      <td>37.483252</td>\n",
       "      <td>126.928758</td>\n",
       "    </tr>\n",
       "    <tr>\n",
       "      <th>3</th>\n",
       "      <td>월화고기 보라매직영점</td>\n",
       "      <td>육류,고기</td>\n",
       "      <td>봉천동 732-3</td>\n",
       "      <td>4.2</td>\n",
       "      <td>103</td>\n",
       "      <td>215</td>\n",
       "      <td>37.491585</td>\n",
       "      <td>126.926289</td>\n",
       "    </tr>\n",
       "    <tr>\n",
       "      <th>4</th>\n",
       "      <td>막불감동 신림본점</td>\n",
       "      <td>냉면</td>\n",
       "      <td>신림동 1433-60</td>\n",
       "      <td>3.7</td>\n",
       "      <td>41</td>\n",
       "      <td>97</td>\n",
       "      <td>37.484256</td>\n",
       "      <td>126.928156</td>\n",
       "    </tr>\n",
       "  </tbody>\n",
       "</table>\n",
       "</div>"
      ],
      "text/plain": [
       "          name category      address  score  eval_cnt  review_cnt        lat  \\\n",
       "0     아리차이 신림점     중화요리  신림동 1430-11    3.8        64          45  37.487588   \n",
       "1      디자이너리카페       카페  신림동 1465-12    3.6        33         184  37.485008   \n",
       "2     원조민속순대타운       순대  신림동 1640-31    3.3        30         175  37.483252   \n",
       "3  월화고기 보라매직영점    육류,고기    봉천동 732-3    4.2       103         215  37.491585   \n",
       "4    막불감동 신림본점       냉면  신림동 1433-60    3.7        41          97  37.484256   \n",
       "\n",
       "          lng  \n",
       "0  126.928260  \n",
       "1  126.924088  \n",
       "2  126.928758  \n",
       "3  126.926289  \n",
       "4  126.928156  "
      ]
     },
     "execution_count": 127,
     "metadata": {},
     "output_type": "execute_result"
    }
   ],
   "source": [
    "# error\n",
    "error_num = 0\n",
    "\n",
    "# 구글맵API를 활용하여 각 카페의 주소에 해당하는 지리 정보를 얻어오기\n",
    "for row in tqdm(df.index):\n",
    "    try:\n",
    "        geo = gmaps.geocode(str(df.loc[row, 'address']))\n",
    "        df.loc[row, 'lat'] = geo[0].get('geometry')['location']['lat']\n",
    "        df.loc[row, 'lng'] = geo[0].get('geometry')['location']['lng']\n",
    "    except:\n",
    "        df.loc[row, 'lat'] = np.nan\n",
    "        df.loc[row, 'lng'] = np.nan\n",
    "        error_num += 1\n",
    "\n",
    "print(error_num)\n",
    "df.head()"
   ]
  },
  {
   "cell_type": "code",
   "execution_count": 132,
   "id": "3f2ae0bb",
   "metadata": {
    "ExecuteTime": {
     "end_time": "2021-09-08T00:38:35.811122Z",
     "start_time": "2021-09-08T00:38:35.792138Z"
    }
   },
   "outputs": [
    {
     "name": "stdout",
     "output_type": "stream",
     "text": [
      "0\n",
      "0\n"
     ]
    }
   ],
   "source": [
    "print(df.lat.isnull().sum())\n",
    "print(df.lng.isnull().sum())"
   ]
  },
  {
   "cell_type": "markdown",
   "id": "579b4132",
   "metadata": {
    "ExecuteTime": {
     "end_time": "2021-09-07T21:57:43.184758Z",
     "start_time": "2021-09-07T21:57:42.953375Z"
    }
   },
   "source": [
    "#### distance 컬럼 추가"
   ]
  },
  {
   "cell_type": "code",
   "execution_count": 133,
   "id": "aa352ff5",
   "metadata": {
    "ExecuteTime": {
     "end_time": "2021-09-08T00:42:50.418834Z",
     "start_time": "2021-09-08T00:42:50.400880Z"
    }
   },
   "outputs": [],
   "source": [
    "from haversine import haversine"
   ]
  },
  {
   "cell_type": "code",
   "execution_count": 137,
   "id": "34a409c4",
   "metadata": {
    "ExecuteTime": {
     "end_time": "2021-09-08T00:54:19.644753Z",
     "start_time": "2021-09-08T00:54:19.393947Z"
    }
   },
   "outputs": [
    {
     "name": "stderr",
     "output_type": "stream",
     "text": [
      "100%|██████████████████████████████████████████████████████████████████████████████| 495/495 [00:00<00:00, 2210.65it/s]\n"
     ]
    },
    {
     "data": {
      "text/html": [
       "<div>\n",
       "<style scoped>\n",
       "    .dataframe tbody tr th:only-of-type {\n",
       "        vertical-align: middle;\n",
       "    }\n",
       "\n",
       "    .dataframe tbody tr th {\n",
       "        vertical-align: top;\n",
       "    }\n",
       "\n",
       "    .dataframe thead th {\n",
       "        text-align: right;\n",
       "    }\n",
       "</style>\n",
       "<table border=\"1\" class=\"dataframe\">\n",
       "  <thead>\n",
       "    <tr style=\"text-align: right;\">\n",
       "      <th></th>\n",
       "      <th>name</th>\n",
       "      <th>category</th>\n",
       "      <th>address</th>\n",
       "      <th>score</th>\n",
       "      <th>eval_cnt</th>\n",
       "      <th>review_cnt</th>\n",
       "      <th>lat</th>\n",
       "      <th>lng</th>\n",
       "      <th>distance</th>\n",
       "    </tr>\n",
       "  </thead>\n",
       "  <tbody>\n",
       "    <tr>\n",
       "      <th>0</th>\n",
       "      <td>아리차이 신림점</td>\n",
       "      <td>중화요리</td>\n",
       "      <td>신림동 1430-11</td>\n",
       "      <td>3.8</td>\n",
       "      <td>64</td>\n",
       "      <td>45</td>\n",
       "      <td>37.487588</td>\n",
       "      <td>126.928260</td>\n",
       "      <td>388.576625</td>\n",
       "    </tr>\n",
       "    <tr>\n",
       "      <th>1</th>\n",
       "      <td>디자이너리카페</td>\n",
       "      <td>카페</td>\n",
       "      <td>신림동 1465-12</td>\n",
       "      <td>3.6</td>\n",
       "      <td>33</td>\n",
       "      <td>184</td>\n",
       "      <td>37.485008</td>\n",
       "      <td>126.924088</td>\n",
       "      <td>497.792949</td>\n",
       "    </tr>\n",
       "    <tr>\n",
       "      <th>2</th>\n",
       "      <td>원조민속순대타운</td>\n",
       "      <td>순대</td>\n",
       "      <td>신림동 1640-31</td>\n",
       "      <td>3.3</td>\n",
       "      <td>30</td>\n",
       "      <td>175</td>\n",
       "      <td>37.483252</td>\n",
       "      <td>126.928758</td>\n",
       "      <td>138.279774</td>\n",
       "    </tr>\n",
       "    <tr>\n",
       "      <th>3</th>\n",
       "      <td>월화고기 보라매직영점</td>\n",
       "      <td>육류,고기</td>\n",
       "      <td>봉천동 732-3</td>\n",
       "      <td>4.2</td>\n",
       "      <td>103</td>\n",
       "      <td>215</td>\n",
       "      <td>37.491585</td>\n",
       "      <td>126.926289</td>\n",
       "      <td>865.557687</td>\n",
       "    </tr>\n",
       "    <tr>\n",
       "      <th>4</th>\n",
       "      <td>막불감동 신림본점</td>\n",
       "      <td>냉면</td>\n",
       "      <td>신림동 1433-60</td>\n",
       "      <td>3.7</td>\n",
       "      <td>41</td>\n",
       "      <td>97</td>\n",
       "      <td>37.484256</td>\n",
       "      <td>126.928156</td>\n",
       "      <td>132.134471</td>\n",
       "    </tr>\n",
       "  </tbody>\n",
       "</table>\n",
       "</div>"
      ],
      "text/plain": [
       "          name category      address  score  eval_cnt  review_cnt        lat  \\\n",
       "0     아리차이 신림점     중화요리  신림동 1430-11    3.8        64          45  37.487588   \n",
       "1      디자이너리카페       카페  신림동 1465-12    3.6        33         184  37.485008   \n",
       "2     원조민속순대타운       순대  신림동 1640-31    3.3        30         175  37.483252   \n",
       "3  월화고기 보라매직영점    육류,고기    봉천동 732-3    4.2       103         215  37.491585   \n",
       "4    막불감동 신림본점       냉면  신림동 1433-60    3.7        41          97  37.484256   \n",
       "\n",
       "          lng    distance  \n",
       "0  126.928260  388.576625  \n",
       "1  126.924088  497.792949  \n",
       "2  126.928758  138.279774  \n",
       "3  126.926289  865.557687  \n",
       "4  126.928156  132.134471  "
      ]
     },
     "execution_count": 137,
     "metadata": {},
     "output_type": "execute_result"
    }
   ],
   "source": [
    "sillim = (37.48427269489072, 126.92965336425706)\n",
    "\n",
    "for index in tqdm(df.index):\n",
    "    df.loc[index, 'distance'] = haversine(sillim, (df.loc[index, 'lat'], df.loc[index, 'lng']), unit='m')\n",
    "\n",
    "df.head()"
   ]
  },
  {
   "cell_type": "markdown",
   "id": "ceaa41f1",
   "metadata": {
    "ExecuteTime": {
     "end_time": "2021-09-08T00:52:47.282007Z",
     "start_time": "2021-09-08T00:52:47.272036Z"
    }
   },
   "source": [
    "### 저장하기"
   ]
  },
  {
   "cell_type": "code",
   "execution_count": 138,
   "id": "0c596381",
   "metadata": {
    "ExecuteTime": {
     "end_time": "2021-09-08T00:54:59.326790Z",
     "start_time": "2021-09-08T00:54:59.296870Z"
    }
   },
   "outputs": [
    {
     "data": {
      "text/html": [
       "<div>\n",
       "<style scoped>\n",
       "    .dataframe tbody tr th:only-of-type {\n",
       "        vertical-align: middle;\n",
       "    }\n",
       "\n",
       "    .dataframe tbody tr th {\n",
       "        vertical-align: top;\n",
       "    }\n",
       "\n",
       "    .dataframe thead th {\n",
       "        text-align: right;\n",
       "    }\n",
       "</style>\n",
       "<table border=\"1\" class=\"dataframe\">\n",
       "  <thead>\n",
       "    <tr style=\"text-align: right;\">\n",
       "      <th></th>\n",
       "      <th>name</th>\n",
       "      <th>category</th>\n",
       "      <th>address</th>\n",
       "      <th>score</th>\n",
       "      <th>eval_cnt</th>\n",
       "      <th>review_cnt</th>\n",
       "      <th>lat</th>\n",
       "      <th>lng</th>\n",
       "      <th>distance</th>\n",
       "    </tr>\n",
       "  </thead>\n",
       "  <tbody>\n",
       "    <tr>\n",
       "      <th>0</th>\n",
       "      <td>아리차이 신림점</td>\n",
       "      <td>중화요리</td>\n",
       "      <td>신림동 1430-11</td>\n",
       "      <td>3.8</td>\n",
       "      <td>64</td>\n",
       "      <td>45</td>\n",
       "      <td>37.487588</td>\n",
       "      <td>126.928260</td>\n",
       "      <td>388.576625</td>\n",
       "    </tr>\n",
       "    <tr>\n",
       "      <th>1</th>\n",
       "      <td>디자이너리카페</td>\n",
       "      <td>카페</td>\n",
       "      <td>신림동 1465-12</td>\n",
       "      <td>3.6</td>\n",
       "      <td>33</td>\n",
       "      <td>184</td>\n",
       "      <td>37.485008</td>\n",
       "      <td>126.924088</td>\n",
       "      <td>497.792949</td>\n",
       "    </tr>\n",
       "    <tr>\n",
       "      <th>2</th>\n",
       "      <td>원조민속순대타운</td>\n",
       "      <td>순대</td>\n",
       "      <td>신림동 1640-31</td>\n",
       "      <td>3.3</td>\n",
       "      <td>30</td>\n",
       "      <td>175</td>\n",
       "      <td>37.483252</td>\n",
       "      <td>126.928758</td>\n",
       "      <td>138.279774</td>\n",
       "    </tr>\n",
       "    <tr>\n",
       "      <th>3</th>\n",
       "      <td>월화고기 보라매직영점</td>\n",
       "      <td>육류,고기</td>\n",
       "      <td>봉천동 732-3</td>\n",
       "      <td>4.2</td>\n",
       "      <td>103</td>\n",
       "      <td>215</td>\n",
       "      <td>37.491585</td>\n",
       "      <td>126.926289</td>\n",
       "      <td>865.557687</td>\n",
       "    </tr>\n",
       "    <tr>\n",
       "      <th>4</th>\n",
       "      <td>막불감동 신림본점</td>\n",
       "      <td>냉면</td>\n",
       "      <td>신림동 1433-60</td>\n",
       "      <td>3.7</td>\n",
       "      <td>41</td>\n",
       "      <td>97</td>\n",
       "      <td>37.484256</td>\n",
       "      <td>126.928156</td>\n",
       "      <td>132.134471</td>\n",
       "    </tr>\n",
       "  </tbody>\n",
       "</table>\n",
       "</div>"
      ],
      "text/plain": [
       "          name category      address  score  eval_cnt  review_cnt        lat  \\\n",
       "0     아리차이 신림점     중화요리  신림동 1430-11    3.8        64          45  37.487588   \n",
       "1      디자이너리카페       카페  신림동 1465-12    3.6        33         184  37.485008   \n",
       "2     원조민속순대타운       순대  신림동 1640-31    3.3        30         175  37.483252   \n",
       "3  월화고기 보라매직영점    육류,고기    봉천동 732-3    4.2       103         215  37.491585   \n",
       "4    막불감동 신림본점       냉면  신림동 1433-60    3.7        41          97  37.484256   \n",
       "\n",
       "          lng    distance  \n",
       "0  126.928260  388.576625  \n",
       "1  126.924088  497.792949  \n",
       "2  126.928758  138.279774  \n",
       "3  126.926289  865.557687  \n",
       "4  126.928156  132.134471  "
      ]
     },
     "execution_count": 138,
     "metadata": {},
     "output_type": "execute_result"
    }
   ],
   "source": [
    "df.head()"
   ]
  },
  {
   "cell_type": "code",
   "execution_count": 139,
   "id": "c8d7246a",
   "metadata": {
    "ExecuteTime": {
     "end_time": "2021-09-08T00:55:04.270564Z",
     "start_time": "2021-09-08T00:55:04.240641Z"
    }
   },
   "outputs": [
    {
     "data": {
      "text/html": [
       "<div>\n",
       "<style scoped>\n",
       "    .dataframe tbody tr th:only-of-type {\n",
       "        vertical-align: middle;\n",
       "    }\n",
       "\n",
       "    .dataframe tbody tr th {\n",
       "        vertical-align: top;\n",
       "    }\n",
       "\n",
       "    .dataframe thead th {\n",
       "        text-align: right;\n",
       "    }\n",
       "</style>\n",
       "<table border=\"1\" class=\"dataframe\">\n",
       "  <thead>\n",
       "    <tr style=\"text-align: right;\">\n",
       "      <th></th>\n",
       "      <th>name</th>\n",
       "      <th>category</th>\n",
       "      <th>address</th>\n",
       "      <th>score</th>\n",
       "      <th>eval_cnt</th>\n",
       "      <th>review_cnt</th>\n",
       "      <th>lat</th>\n",
       "      <th>lng</th>\n",
       "      <th>distance</th>\n",
       "    </tr>\n",
       "  </thead>\n",
       "  <tbody>\n",
       "    <tr>\n",
       "      <th>505</th>\n",
       "      <td>빽다방 신림역2호점</td>\n",
       "      <td>커피전문점</td>\n",
       "      <td>신림동 1641-12</td>\n",
       "      <td>3.8</td>\n",
       "      <td>5</td>\n",
       "      <td>3</td>\n",
       "      <td>37.482939</td>\n",
       "      <td>126.930123</td>\n",
       "      <td>153.981065</td>\n",
       "    </tr>\n",
       "    <tr>\n",
       "      <th>506</th>\n",
       "      <td>궁중 삼계탕</td>\n",
       "      <td>삼계탕</td>\n",
       "      <td>신대방동 395-66</td>\n",
       "      <td>3.2</td>\n",
       "      <td>6</td>\n",
       "      <td>5</td>\n",
       "      <td>37.491395</td>\n",
       "      <td>126.923403</td>\n",
       "      <td>965.021609</td>\n",
       "    </tr>\n",
       "    <tr>\n",
       "      <th>507</th>\n",
       "      <td>본죽 신림역점</td>\n",
       "      <td>죽</td>\n",
       "      <td>신림동 1637-3</td>\n",
       "      <td>2.6</td>\n",
       "      <td>9</td>\n",
       "      <td>3</td>\n",
       "      <td>37.481983</td>\n",
       "      <td>126.929644</td>\n",
       "      <td>254.593116</td>\n",
       "    </tr>\n",
       "    <tr>\n",
       "      <th>508</th>\n",
       "      <td>고고즉석떡볶이 신림역점</td>\n",
       "      <td>분식</td>\n",
       "      <td>신림동 1424-9</td>\n",
       "      <td>4.5</td>\n",
       "      <td>4</td>\n",
       "      <td>13</td>\n",
       "      <td>37.486187</td>\n",
       "      <td>126.929550</td>\n",
       "      <td>213.112908</td>\n",
       "    </tr>\n",
       "    <tr>\n",
       "      <th>509</th>\n",
       "      <td>장충영양족발</td>\n",
       "      <td>족발,보쌈</td>\n",
       "      <td>신림동 10-627</td>\n",
       "      <td>5.0</td>\n",
       "      <td>7</td>\n",
       "      <td>11</td>\n",
       "      <td>37.484379</td>\n",
       "      <td>126.936287</td>\n",
       "      <td>585.475925</td>\n",
       "    </tr>\n",
       "  </tbody>\n",
       "</table>\n",
       "</div>"
      ],
      "text/plain": [
       "             name category      address  score  eval_cnt  review_cnt  \\\n",
       "505    빽다방 신림역2호점    커피전문점  신림동 1641-12    3.8         5           3   \n",
       "506        궁중 삼계탕      삼계탕  신대방동 395-66    3.2         6           5   \n",
       "507       본죽 신림역점        죽   신림동 1637-3    2.6         9           3   \n",
       "508  고고즉석떡볶이 신림역점       분식   신림동 1424-9    4.5         4          13   \n",
       "509        장충영양족발    족발,보쌈   신림동 10-627    5.0         7          11   \n",
       "\n",
       "           lat         lng    distance  \n",
       "505  37.482939  126.930123  153.981065  \n",
       "506  37.491395  126.923403  965.021609  \n",
       "507  37.481983  126.929644  254.593116  \n",
       "508  37.486187  126.929550  213.112908  \n",
       "509  37.484379  126.936287  585.475925  "
      ]
     },
     "execution_count": 139,
     "metadata": {},
     "output_type": "execute_result"
    }
   ],
   "source": [
    "df.tail()"
   ]
  },
  {
   "cell_type": "code",
   "execution_count": 141,
   "id": "545344c4",
   "metadata": {
    "ExecuteTime": {
     "end_time": "2021-09-08T00:55:38.644512Z",
     "start_time": "2021-09-08T00:55:38.112909Z"
    }
   },
   "outputs": [
    {
     "data": {
      "image/png": "[encoded data removed]",
      "text/plain": [
       "<Figure size 504x216 with 3 Axes>"
      ]
     },
     "metadata": {},
     "output_type": "display_data"
    }
   ],
   "source": [
    "msno.bar(df, figsize=(7, 3))\n",
    "plt.show()"
   ]
  },
  {
   "cell_type": "code",
   "execution_count": 142,
   "id": "de3bc9e9",
   "metadata": {
    "ExecuteTime": {
     "end_time": "2021-09-08T00:57:13.549745Z",
     "start_time": "2021-09-08T00:57:13.528802Z"
    }
   },
   "outputs": [],
   "source": [
    "df.to_csv('./source/restaurant_cleaning(mk).csv', index=False)"
   ]
  },
  {
   "cell_type": "code",
   "execution_count": 143,
   "id": "e5c4eba9",
   "metadata": {
    "ExecuteTime": {
     "end_time": "2021-09-08T00:58:21.318328Z",
     "start_time": "2021-09-08T00:58:21.264473Z"
    }
   },
   "outputs": [
    {
     "data": {
      "text/html": [
       "<div>\n",
       "<style scoped>\n",
       "    .dataframe tbody tr th:only-of-type {\n",
       "        vertical-align: middle;\n",
       "    }\n",
       "\n",
       "    .dataframe tbody tr th {\n",
       "        vertical-align: top;\n",
       "    }\n",
       "\n",
       "    .dataframe thead th {\n",
       "        text-align: right;\n",
       "    }\n",
       "</style>\n",
       "<table border=\"1\" class=\"dataframe\">\n",
       "  <thead>\n",
       "    <tr style=\"text-align: right;\">\n",
       "      <th></th>\n",
       "      <th>name</th>\n",
       "      <th>category</th>\n",
       "      <th>address</th>\n",
       "      <th>score</th>\n",
       "      <th>eval_cnt</th>\n",
       "      <th>review_cnt</th>\n",
       "      <th>lat</th>\n",
       "      <th>lng</th>\n",
       "      <th>distance</th>\n",
       "    </tr>\n",
       "  </thead>\n",
       "  <tbody>\n",
       "    <tr>\n",
       "      <th>0</th>\n",
       "      <td>아리차이 신림점</td>\n",
       "      <td>중화요리</td>\n",
       "      <td>신림동 1430-11</td>\n",
       "      <td>3.8</td>\n",
       "      <td>64</td>\n",
       "      <td>45</td>\n",
       "      <td>37.487588</td>\n",
       "      <td>126.928260</td>\n",
       "      <td>388.576625</td>\n",
       "    </tr>\n",
       "    <tr>\n",
       "      <th>1</th>\n",
       "      <td>디자이너리카페</td>\n",
       "      <td>카페</td>\n",
       "      <td>신림동 1465-12</td>\n",
       "      <td>3.6</td>\n",
       "      <td>33</td>\n",
       "      <td>184</td>\n",
       "      <td>37.485008</td>\n",
       "      <td>126.924088</td>\n",
       "      <td>497.792949</td>\n",
       "    </tr>\n",
       "    <tr>\n",
       "      <th>2</th>\n",
       "      <td>원조민속순대타운</td>\n",
       "      <td>순대</td>\n",
       "      <td>신림동 1640-31</td>\n",
       "      <td>3.3</td>\n",
       "      <td>30</td>\n",
       "      <td>175</td>\n",
       "      <td>37.483252</td>\n",
       "      <td>126.928758</td>\n",
       "      <td>138.279774</td>\n",
       "    </tr>\n",
       "    <tr>\n",
       "      <th>3</th>\n",
       "      <td>월화고기 보라매직영점</td>\n",
       "      <td>육류,고기</td>\n",
       "      <td>봉천동 732-3</td>\n",
       "      <td>4.2</td>\n",
       "      <td>103</td>\n",
       "      <td>215</td>\n",
       "      <td>37.491585</td>\n",
       "      <td>126.926289</td>\n",
       "      <td>865.557687</td>\n",
       "    </tr>\n",
       "    <tr>\n",
       "      <th>4</th>\n",
       "      <td>막불감동 신림본점</td>\n",
       "      <td>냉면</td>\n",
       "      <td>신림동 1433-60</td>\n",
       "      <td>3.7</td>\n",
       "      <td>41</td>\n",
       "      <td>97</td>\n",
       "      <td>37.484256</td>\n",
       "      <td>126.928156</td>\n",
       "      <td>132.134471</td>\n",
       "    </tr>\n",
       "    <tr>\n",
       "      <th>...</th>\n",
       "      <td>...</td>\n",
       "      <td>...</td>\n",
       "      <td>...</td>\n",
       "      <td>...</td>\n",
       "      <td>...</td>\n",
       "      <td>...</td>\n",
       "      <td>...</td>\n",
       "      <td>...</td>\n",
       "      <td>...</td>\n",
       "    </tr>\n",
       "    <tr>\n",
       "      <th>490</th>\n",
       "      <td>빽다방 신림역2호점</td>\n",
       "      <td>커피전문점</td>\n",
       "      <td>신림동 1641-12</td>\n",
       "      <td>3.8</td>\n",
       "      <td>5</td>\n",
       "      <td>3</td>\n",
       "      <td>37.482939</td>\n",
       "      <td>126.930123</td>\n",
       "      <td>153.981065</td>\n",
       "    </tr>\n",
       "    <tr>\n",
       "      <th>491</th>\n",
       "      <td>궁중 삼계탕</td>\n",
       "      <td>삼계탕</td>\n",
       "      <td>신대방동 395-66</td>\n",
       "      <td>3.2</td>\n",
       "      <td>6</td>\n",
       "      <td>5</td>\n",
       "      <td>37.491395</td>\n",
       "      <td>126.923403</td>\n",
       "      <td>965.021609</td>\n",
       "    </tr>\n",
       "    <tr>\n",
       "      <th>492</th>\n",
       "      <td>본죽 신림역점</td>\n",
       "      <td>죽</td>\n",
       "      <td>신림동 1637-3</td>\n",
       "      <td>2.6</td>\n",
       "      <td>9</td>\n",
       "      <td>3</td>\n",
       "      <td>37.481983</td>\n",
       "      <td>126.929644</td>\n",
       "      <td>254.593116</td>\n",
       "    </tr>\n",
       "    <tr>\n",
       "      <th>493</th>\n",
       "      <td>고고즉석떡볶이 신림역점</td>\n",
       "      <td>분식</td>\n",
       "      <td>신림동 1424-9</td>\n",
       "      <td>4.5</td>\n",
       "      <td>4</td>\n",
       "      <td>13</td>\n",
       "      <td>37.486187</td>\n",
       "      <td>126.929550</td>\n",
       "      <td>213.112908</td>\n",
       "    </tr>\n",
       "    <tr>\n",
       "      <th>494</th>\n",
       "      <td>장충영양족발</td>\n",
       "      <td>족발,보쌈</td>\n",
       "      <td>신림동 10-627</td>\n",
       "      <td>5.0</td>\n",
       "      <td>7</td>\n",
       "      <td>11</td>\n",
       "      <td>37.484379</td>\n",
       "      <td>126.936287</td>\n",
       "      <td>585.475925</td>\n",
       "    </tr>\n",
       "  </tbody>\n",
       "</table>\n",
       "<p>495 rows × 9 columns</p>\n",
       "</div>"
      ],
      "text/plain": [
       "             name category      address  score  eval_cnt  review_cnt  \\\n",
       "0        아리차이 신림점     중화요리  신림동 1430-11    3.8        64          45   \n",
       "1         디자이너리카페       카페  신림동 1465-12    3.6        33         184   \n",
       "2        원조민속순대타운       순대  신림동 1640-31    3.3        30         175   \n",
       "3     월화고기 보라매직영점    육류,고기    봉천동 732-3    4.2       103         215   \n",
       "4       막불감동 신림본점       냉면  신림동 1433-60    3.7        41          97   \n",
       "..            ...      ...          ...    ...       ...         ...   \n",
       "490    빽다방 신림역2호점    커피전문점  신림동 1641-12    3.8         5           3   \n",
       "491        궁중 삼계탕      삼계탕  신대방동 395-66    3.2         6           5   \n",
       "492       본죽 신림역점        죽   신림동 1637-3    2.6         9           3   \n",
       "493  고고즉석떡볶이 신림역점       분식   신림동 1424-9    4.5         4          13   \n",
       "494        장충영양족발    족발,보쌈   신림동 10-627    5.0         7          11   \n",
       "\n",
       "           lat         lng    distance  \n",
       "0    37.487588  126.928260  388.576625  \n",
       "1    37.485008  126.924088  497.792949  \n",
       "2    37.483252  126.928758  138.279774  \n",
       "3    37.491585  126.926289  865.557687  \n",
       "4    37.484256  126.928156  132.134471  \n",
       "..         ...         ...         ...  \n",
       "490  37.482939  126.930123  153.981065  \n",
       "491  37.491395  126.923403  965.021609  \n",
       "492  37.481983  126.929644  254.593116  \n",
       "493  37.486187  126.929550  213.112908  \n",
       "494  37.484379  126.936287  585.475925  \n",
       "\n",
       "[495 rows x 9 columns]"
      ]
     },
     "execution_count": 143,
     "metadata": {},
     "output_type": "execute_result"
    }
   ],
   "source": [
    "pd.read_csv('./source/restaurant_cleaning(mk).csv')"
   ]
  }
 ],
 "metadata": {
  "hide_input": false,
  "kernelspec": {
   "display_name": "Python 3",
   "language": "python",
   "name": "python3"
  },
  "language_info": {
   "codemirror_mode": {
    "name": "ipython",
    "version": 3
   },
   "file_extension": ".py",
   "mimetype": "text/x-python",
   "name": "python",
   "nbconvert_exporter": "python",
   "pygments_lexer": "ipython3",
   "version": "3.7.6"
  },
  "toc": {
   "base_numbering": 1,
   "nav_menu": {},
   "number_sections": true,
   "sideBar": true,
   "skip_h1_title": true,
   "title_cell": "Table of Contents",
   "title_sidebar": "Contents",
   "toc_cell": true,
   "toc_position": {
    "height": "calc(100% - 180px)",
    "left": "10px",
    "top": "150px",
    "width": "261px"
   },
   "toc_section_display": true,
   "toc_window_display": true
  }
 },
 "nbformat": 4,
 "nbformat_minor": 5
}
